{
 "cells": [
  {
   "cell_type": "markdown",
   "id": "107130dc",
   "metadata": {},
   "source": [
    "# **Jour 44 : USArrests**"
   ]
  },
  {
   "cell_type": "markdown",
   "id": "34841f7d",
   "metadata": {},
   "source": [
    "Le jeu de données **USArrests** est un ensemble de statistiques classiques qui fournit des informations sur la criminalité et le nombre d'arrestations dans chacun des **50** États américains en **1973** pour 100.000 habitants."
   ]
  },
  {
   "cell_type": "markdown",
   "id": "2d5b2cd4",
   "metadata": {},
   "source": [
    "$\\bigoplus$ **Signification des variables**"
   ]
  },
  {
   "cell_type": "markdown",
   "id": "d814276f",
   "metadata": {},
   "source": [
    "+  Murder :\tTaux d'homicides volontaires (meurtres)\t\n",
    "+  Assault :\tTaux d'agressions physiques (violentes)\t\n",
    "+  UrbanPop :\tPourcentage de la population vivant en zone urbaine\n",
    "+  Rape :\tTaux de viols déclarés\t"
   ]
  },
  {
   "cell_type": "markdown",
   "id": "062dc62c",
   "metadata": {},
   "source": [
    "## 0. Chargement des librairies "
   ]
  },
  {
   "cell_type": "code",
   "execution_count": 1,
   "id": "947bc75e",
   "metadata": {},
   "outputs": [],
   "source": [
    "import pandas as pd\n",
    "import numpy as np\n",
    "import seaborn as sns\n",
    "import matplotlib.pyplot as plt\n",
    "from sklearn.linear_model import LinearRegression\n",
    "from sklearn.model_selection import train_test_split\n",
    "from sklearn.metrics import r2_score, mean_squared_error\n",
    "import plotly.express as px\n",
    "import statsmodels.api as sm\n",
    "\n",
    "\n",
    "from sklearn.model_selection import train_test_split, cross_val_score"
   ]
  },
  {
   "cell_type": "markdown",
   "id": "06ceccc7",
   "metadata": {},
   "source": [
    "## 1. Chargement de la base de données"
   ]
  },
  {
   "cell_type": "code",
   "execution_count": 2,
   "id": "cf7c5116",
   "metadata": {},
   "outputs": [],
   "source": [
    "data = pd.read_csv(\"../data/USArrests.csv\")\n",
    "\n",
    "data.columns.values[0]= 'Etats'"
   ]
  },
  {
   "cell_type": "code",
   "execution_count": 3,
   "id": "108e6d8f",
   "metadata": {},
   "outputs": [
    {
     "data": {
      "text/html": [
       "<div>\n",
       "<style scoped>\n",
       "    .dataframe tbody tr th:only-of-type {\n",
       "        vertical-align: middle;\n",
       "    }\n",
       "\n",
       "    .dataframe tbody tr th {\n",
       "        vertical-align: top;\n",
       "    }\n",
       "\n",
       "    .dataframe thead th {\n",
       "        text-align: right;\n",
       "    }\n",
       "</style>\n",
       "<table border=\"1\" class=\"dataframe\">\n",
       "  <thead>\n",
       "    <tr style=\"text-align: right;\">\n",
       "      <th></th>\n",
       "      <th>Etats</th>\n",
       "      <th>Murder</th>\n",
       "      <th>Assault</th>\n",
       "      <th>UrbanPop</th>\n",
       "      <th>Rape</th>\n",
       "    </tr>\n",
       "  </thead>\n",
       "  <tbody>\n",
       "    <tr>\n",
       "      <th>0</th>\n",
       "      <td>Alabama</td>\n",
       "      <td>13.2</td>\n",
       "      <td>236</td>\n",
       "      <td>58</td>\n",
       "      <td>21.2</td>\n",
       "    </tr>\n",
       "    <tr>\n",
       "      <th>1</th>\n",
       "      <td>Alaska</td>\n",
       "      <td>10.0</td>\n",
       "      <td>263</td>\n",
       "      <td>48</td>\n",
       "      <td>44.5</td>\n",
       "    </tr>\n",
       "    <tr>\n",
       "      <th>2</th>\n",
       "      <td>Arizona</td>\n",
       "      <td>8.1</td>\n",
       "      <td>294</td>\n",
       "      <td>80</td>\n",
       "      <td>31.0</td>\n",
       "    </tr>\n",
       "    <tr>\n",
       "      <th>3</th>\n",
       "      <td>Arkansas</td>\n",
       "      <td>8.8</td>\n",
       "      <td>190</td>\n",
       "      <td>50</td>\n",
       "      <td>19.5</td>\n",
       "    </tr>\n",
       "    <tr>\n",
       "      <th>4</th>\n",
       "      <td>California</td>\n",
       "      <td>9.0</td>\n",
       "      <td>276</td>\n",
       "      <td>91</td>\n",
       "      <td>40.6</td>\n",
       "    </tr>\n",
       "  </tbody>\n",
       "</table>\n",
       "</div>"
      ],
      "text/plain": [
       "        Etats  Murder  Assault  UrbanPop  Rape\n",
       "0     Alabama    13.2      236        58  21.2\n",
       "1      Alaska    10.0      263        48  44.5\n",
       "2     Arizona     8.1      294        80  31.0\n",
       "3    Arkansas     8.8      190        50  19.5\n",
       "4  California     9.0      276        91  40.6"
      ]
     },
     "execution_count": 3,
     "metadata": {},
     "output_type": "execute_result"
    }
   ],
   "source": [
    "data.head()"
   ]
  },
  {
   "cell_type": "markdown",
   "id": "f48a9304",
   "metadata": {},
   "source": [
    "## 2. Vérification des valeurs manquantes et quelques statistiques  descriptives"
   ]
  },
  {
   "cell_type": "markdown",
   "id": "bff3fad4",
   "metadata": {},
   "source": [
    "### 2.1. Les valeurs manquantes \n"
   ]
  },
  {
   "cell_type": "code",
   "execution_count": 6,
   "id": "7bb33149",
   "metadata": {},
   "outputs": [
    {
     "name": "stdout",
     "output_type": "stream",
     "text": [
      "Etats       0\n",
      "Murder      0\n",
      "Assault     0\n",
      "UrbanPop    0\n",
      "Rape        0\n",
      "dtype: int64\n"
     ]
    }
   ],
   "source": [
    "print(data.isnull().sum())"
   ]
  },
  {
   "cell_type": "markdown",
   "id": "eae5a3a4",
   "metadata": {},
   "source": [
    "Aucune valeur manquante ne se trouve dans la base."
   ]
  },
  {
   "cell_type": "markdown",
   "id": "9d8f3499",
   "metadata": {},
   "source": [
    "### 2.2. Statistiques descriptives"
   ]
  },
  {
   "cell_type": "code",
   "execution_count": 7,
   "id": "ac0636c8",
   "metadata": {},
   "outputs": [
    {
     "data": {
      "text/html": [
       "<div>\n",
       "<style scoped>\n",
       "    .dataframe tbody tr th:only-of-type {\n",
       "        vertical-align: middle;\n",
       "    }\n",
       "\n",
       "    .dataframe tbody tr th {\n",
       "        vertical-align: top;\n",
       "    }\n",
       "\n",
       "    .dataframe thead th {\n",
       "        text-align: right;\n",
       "    }\n",
       "</style>\n",
       "<table border=\"1\" class=\"dataframe\">\n",
       "  <thead>\n",
       "    <tr style=\"text-align: right;\">\n",
       "      <th></th>\n",
       "      <th>count</th>\n",
       "      <th>mean</th>\n",
       "      <th>std</th>\n",
       "      <th>min</th>\n",
       "      <th>25%</th>\n",
       "      <th>50%</th>\n",
       "      <th>75%</th>\n",
       "      <th>max</th>\n",
       "    </tr>\n",
       "  </thead>\n",
       "  <tbody>\n",
       "    <tr>\n",
       "      <th>Murder</th>\n",
       "      <td>50.0</td>\n",
       "      <td>7.788</td>\n",
       "      <td>4.355510</td>\n",
       "      <td>0.8</td>\n",
       "      <td>4.075</td>\n",
       "      <td>7.25</td>\n",
       "      <td>11.250</td>\n",
       "      <td>17.4</td>\n",
       "    </tr>\n",
       "    <tr>\n",
       "      <th>Assault</th>\n",
       "      <td>50.0</td>\n",
       "      <td>170.760</td>\n",
       "      <td>83.337661</td>\n",
       "      <td>45.0</td>\n",
       "      <td>109.000</td>\n",
       "      <td>159.00</td>\n",
       "      <td>249.000</td>\n",
       "      <td>337.0</td>\n",
       "    </tr>\n",
       "    <tr>\n",
       "      <th>UrbanPop</th>\n",
       "      <td>50.0</td>\n",
       "      <td>65.540</td>\n",
       "      <td>14.474763</td>\n",
       "      <td>32.0</td>\n",
       "      <td>54.500</td>\n",
       "      <td>66.00</td>\n",
       "      <td>77.750</td>\n",
       "      <td>91.0</td>\n",
       "    </tr>\n",
       "    <tr>\n",
       "      <th>Rape</th>\n",
       "      <td>50.0</td>\n",
       "      <td>21.232</td>\n",
       "      <td>9.366385</td>\n",
       "      <td>7.3</td>\n",
       "      <td>15.075</td>\n",
       "      <td>20.10</td>\n",
       "      <td>26.175</td>\n",
       "      <td>46.0</td>\n",
       "    </tr>\n",
       "  </tbody>\n",
       "</table>\n",
       "</div>"
      ],
      "text/plain": [
       "          count     mean        std   min      25%     50%      75%    max\n",
       "Murder     50.0    7.788   4.355510   0.8    4.075    7.25   11.250   17.4\n",
       "Assault    50.0  170.760  83.337661  45.0  109.000  159.00  249.000  337.0\n",
       "UrbanPop   50.0   65.540  14.474763  32.0   54.500   66.00   77.750   91.0\n",
       "Rape       50.0   21.232   9.366385   7.3   15.075   20.10   26.175   46.0"
      ]
     },
     "execution_count": 7,
     "metadata": {},
     "output_type": "execute_result"
    }
   ],
   "source": [
    "data.describe().transpose()"
   ]
  },
  {
   "cell_type": "markdown",
   "id": "3be5cf11",
   "metadata": {},
   "source": [
    "Avec la variable **UrbanPop** par exemple, si on devrait avoir la même proportion de population vivant en zone urbaine dans chaque Etat, alors ce serait **65,54%** et les valeurs de notre échantillon s'écartent en moyenne de **14,47 unités** par raport à cette dernière."
   ]
  },
  {
   "cell_type": "markdown",
   "id": "6f8fe46c",
   "metadata": {},
   "source": [
    "### 3. Exploration visuelle "
   ]
  },
  {
   "cell_type": "code",
   "execution_count": 8,
   "id": "3a44a649",
   "metadata": {},
   "outputs": [
    {
     "data": {
      "image/png": "[encoded data removed]",
      "text/plain": [
       "<Figure size 2000x1000 with 4 Axes>"
      ]
     },
     "metadata": {},
     "output_type": "display_data"
    }
   ],
   "source": [
    "# Nous allons exclure la colonne des noms des Etats pour les analyses\n",
    "df = data.select_dtypes(include=[np.number])\n",
    "# Création de boxplots\n",
    "fig, ax = plt.subplots(ncols=4, nrows=1, figsize=(20, 10))\n",
    "index = 0\n",
    "ax = ax.flatten()\n",
    "\n",
    "for col, value in df.items():\n",
    "    sns.boxplot(y=col, data=df, ax=ax[index])\n",
    "    index += 1\n",
    "plt.tight_layout(pad=0.5, w_pad=0.7, h_pad=5.0)"
   ]
  },
  {
   "cell_type": "markdown",
   "id": "a0445a3c",
   "metadata": {},
   "source": [
    "Ici nous observons sur ces boxplots juste 2 valeures aberrantes sur la variable **Rape**. Cela ne devrait pas poser de problème pour la suite de notre analyse."
   ]
  },
  {
   "cell_type": "code",
   "execution_count": 10,
   "id": "fec2790e",
   "metadata": {},
   "outputs": [
    {
     "data": {
      "image/png": "[encoded data removed]",
      "text/plain": [
       "<Figure size 1000x500 with 1 Axes>"
      ]
     },
     "metadata": {},
     "output_type": "display_data"
    }
   ],
   "source": [
    "sns.lmplot(data=df, x='UrbanPop', y='Murder', height=5, aspect=2)\n",
    "plt.title(\"Meurtres vs Population Urbaine\")\n",
    "plt.show()"
   ]
  },
  {
   "cell_type": "markdown",
   "id": "3d89bcf8",
   "metadata": {},
   "source": [
    "Ici on peut simplement remarquer qu'il n'y a pas une relation particulière entre la proportion de la population vivant en zone urbaine et les meutres dans un quelconque Etat."
   ]
  },
  {
   "cell_type": "markdown",
   "id": "946d1fc3",
   "metadata": {},
   "source": [
    "## 4. Modélisation "
   ]
  },
  {
   "cell_type": "markdown",
   "id": "b77f369d",
   "metadata": {},
   "source": [
    "### 4.1. Préparation des données"
   ]
  },
  {
   "cell_type": "code",
   "execution_count": 15,
   "id": "85e18cba",
   "metadata": {},
   "outputs": [],
   "source": [
    "def train(model, X, y):\n",
    "    # Entraînement du modèle\n",
    "    X_train, X_test, y_train, y_test = train_test_split(X, y, random_state=42)\n",
    "    model.fit(X_train, y_train)\n",
    "    \n",
    "    # Prédiction sur les données d'entraînement\n",
    "    pred = model.predict(X_test)\n",
    "    \n",
    "    # Validation croisée du modèle\n",
    "    cv_score = cross_val_score(model, X, y, scoring='neg_mean_squared_error', cv=5)\n",
    "    cv_score = np.abs(np.mean(cv_score))\n",
    "    \n",
    "    print(\"Rapport du modèle\")\n",
    "    print(\"RMSE :\",np.sqrt(mean_squared_error(y_test, pred)))\n",
    "    print(\"R2 :\", r2_score(y_test, pred))\n",
    "    print('CV Score :', cv_score)"
   ]
  },
  {
   "cell_type": "markdown",
   "id": "130c4317",
   "metadata": {},
   "source": [
    "### 4.2. Régression linéaire "
   ]
  },
  {
   "cell_type": "code",
   "execution_count": 18,
   "id": "a1c2d32f",
   "metadata": {},
   "outputs": [
    {
     "name": "stdout",
     "output_type": "stream",
     "text": [
      "Rapport du modèle\n",
      "RMSE : 2.061151087957611\n",
      "R2 : 0.6954708507453577\n",
      "CV Score : 7.11369377843057\n"
     ]
    }
   ],
   "source": [
    "# les variables explicatives (X) et la variable cible (y)\n",
    "X = df.drop(columns=[\"Murder\"])  \n",
    "y = df[\"Murder\"]\n",
    "\n",
    "# Initialisation du modèle\n",
    "model = LinearRegression()\n",
    "\n",
    "# Ajustement du modèle\n",
    "train(model, X, y)"
   ]
  },
  {
   "cell_type": "markdown",
   "id": "cdbddf2a",
   "metadata": {},
   "source": [
    "## 4. Prédiction"
   ]
  },
  {
   "cell_type": "markdown",
   "id": "1431ae5e",
   "metadata": {},
   "source": [
    "Que prévoir pour un état avec Assault = 150, UrbanPop = 70 et Rape = 20 ?"
   ]
  },
  {
   "cell_type": "code",
   "execution_count": 19,
   "id": "49e52e7c",
   "metadata": {},
   "outputs": [
    {
     "name": "stdout",
     "output_type": "stream",
     "text": [
      "Taux de meurtre prévu: 6.54\n"
     ]
    }
   ],
   "source": [
    "new_data = pd.DataFrame({'Assault': [150], 'UrbanPop': [70], 'Rape': [20]})\n",
    "predicted_murder = model.predict(new_data)[0]\n",
    "print(f\"Taux de meurtre prévu: {predicted_murder:.2f}\")"
   ]
  },
  {
   "cell_type": "markdown",
   "id": "51e4f5b0",
   "metadata": {},
   "source": [
    "R² = 0.766 alors le modèle explique 76.6% de la variance du taux de meurtres et une RMSE = 2.00 indique que l'erreur moyenne des prédictions est de 2 meurtres pour 100k habitants.\n",
    "\n",
    "Pour Assault = 150, UrbanPop = 70%, Rape = 20, le modèle prédit 6.54 meurtres pour 100.000 habitants. Cela correspond à un État moins violent que la moyenne (ex. proche du New Hampshire dans les données réelles)."
   ]
  }
 ],
 "metadata": {
  "kernelspec": {
   "display_name": "Python 3 (ipykernel)",
   "language": "python",
   "name": "python3"
  },
  "language_info": {
   "codemirror_mode": {
    "name": "ipython",
    "version": 3
   },
   "file_extension": ".py",
   "mimetype": "text/x-python",
   "name": "python",
   "nbconvert_exporter": "python",
   "pygments_lexer": "ipython3",
   "version": "3.12.4"
  }
 },
 "nbformat": 4,
 "nbformat_minor": 5
}
