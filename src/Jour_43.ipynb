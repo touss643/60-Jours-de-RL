{
 "cells": [
  {
   "cell_type": "markdown",
   "id": "7e2682e4-7887-4b35-9c5b-b33ae9947931",
   "metadata": {},
   "source": [
    "# **Jour 43 : MTCARS** \n"
   ]
  },
  {
   "cell_type": "markdown",
   "id": "72df1037",
   "metadata": {},
   "source": [
    "La base de données **mtcars** est un ensemble de données classiques en statistique et en science des données. Elle provient de la revue Motor Trend US de 1974 et contient des informations sur 32 modèles de voitures. Chaque observation correspond à un modèle de voiture et comprend 11 variables décrivant ses caractéristiques techniques et ses performances. L’objectif de cette analyse est de mieux comprendre les relations entre les **caractéristiques des véhicules** et leur **consommation en carburant (mpg)**. "
   ]
  },
  {
   "cell_type": "markdown",
   "id": "fb64cd87",
   "metadata": {},
   "source": [
    "$\\bigoplus$ **Signification des variables**"
   ]
  },
  {
   "cell_type": "markdown",
   "id": "37623be8",
   "metadata": {},
   "source": [
    "mpg : Miles per gallon (consommation en miles par gallon, indicateur d’efficacité énergétique).\n",
    "\n",
    "cyl : Nombre de cylindres du moteur (4, 6 ou 8).\n",
    "\n",
    "disp : Cylindrée du moteur en pouces cubes.\n",
    "\n",
    "hp : Puissance du moteur (horsepower, chevaux-vapeur).\n",
    "\n",
    "drat : Ratio du pont arrière (rear axle ratio).\n",
    "\n",
    "wt : Poids du véhicule (en 1000 livres).\n",
    "\n",
    "qsec : Temps au quart de mile (temps en secondes pour parcourir 1/4 de mile).\n",
    "\n",
    "vs : Type de moteur (0 = moteur en V, 1 = moteur en ligne).\n",
    "\n",
    "am : Type de transmission (0 = automatique, 1 = manuelle).\n",
    "\n",
    "gear : Nombre de vitesses de la boîte de transmission.\n",
    "\n",
    "carb : Nombre de carburateurs."
   ]
  },
  {
   "cell_type": "markdown",
   "id": "2a0a98c3",
   "metadata": {},
   "source": [
    "## 0.CHARGEMENT DES LIBRAIRIES "
   ]
  },
  {
   "cell_type": "code",
   "execution_count": 1,
   "id": "bd77b9a2",
   "metadata": {},
   "outputs": [],
   "source": [
    "import pandas as pd\n",
    "import numpy as np\n",
    "import matplotlib.pyplot as plt\n",
    "import seaborn as sns\n",
    "import statsmodels.api as sm"
   ]
  },
  {
   "cell_type": "markdown",
   "id": "4b93c9ff",
   "metadata": {},
   "source": [
    "## 1. CHARGEMENT DE LA BASE DE DONNEES"
   ]
  },
  {
   "cell_type": "code",
   "execution_count": 6,
   "id": "c221fa5c",
   "metadata": {},
   "outputs": [
    {
     "name": "stdout",
     "output_type": "stream",
     "text": [
      "               model   mpg  cyl   disp   hp  drat     wt   qsec  vs  am  gear  \\\n",
      "0          Mazda RX4  21.0    6  160.0  110  3.90  2.620  16.46   0   1     4   \n",
      "1      Mazda RX4 Wag  21.0    6  160.0  110  3.90  2.875  17.02   0   1     4   \n",
      "2         Datsun 710  22.8    4  108.0   93  3.85  2.320  18.61   1   1     4   \n",
      "3     Hornet 4 Drive  21.4    6  258.0  110  3.08  3.215  19.44   1   0     3   \n",
      "4  Hornet Sportabout  18.7    8  360.0  175  3.15  3.440  17.02   0   0     3   \n",
      "\n",
      "   carb  \n",
      "0     4  \n",
      "1     4  \n",
      "2     1  \n",
      "3     1  \n",
      "4     2  \n",
      "             mpg        cyl        disp          hp       drat         wt  \\\n",
      "count  32.000000  32.000000   32.000000   32.000000  32.000000  32.000000   \n",
      "mean   20.090625   6.187500  230.721875  146.687500   3.596563   3.217250   \n",
      "std     6.026948   1.785922  123.938694   68.562868   0.534679   0.978457   \n",
      "min    10.400000   4.000000   71.100000   52.000000   2.760000   1.513000   \n",
      "25%    15.425000   4.000000  120.825000   96.500000   3.080000   2.581250   \n",
      "50%    19.200000   6.000000  196.300000  123.000000   3.695000   3.325000   \n",
      "75%    22.800000   8.000000  326.000000  180.000000   3.920000   3.610000   \n",
      "max    33.900000   8.000000  472.000000  335.000000   4.930000   5.424000   \n",
      "\n",
      "            qsec         vs         am       gear     carb  \n",
      "count  32.000000  32.000000  32.000000  32.000000  32.0000  \n",
      "mean   17.848750   0.437500   0.406250   3.687500   2.8125  \n",
      "std     1.786943   0.504016   0.498991   0.737804   1.6152  \n",
      "min    14.500000   0.000000   0.000000   3.000000   1.0000  \n",
      "25%    16.892500   0.000000   0.000000   3.000000   2.0000  \n",
      "50%    17.710000   0.000000   0.000000   4.000000   2.0000  \n",
      "75%    18.900000   1.000000   1.000000   4.000000   4.0000  \n",
      "max    22.900000   1.000000   1.000000   5.000000   8.0000  \n"
     ]
    }
   ],
   "source": [
    "data = pd.read_csv(\"C:/Users/ZES/Downloads/mtcars.csv\")\n",
    "print(data.head())\n",
    "print(data.describe())"
   ]
  },
  {
   "cell_type": "code",
   "execution_count": null,
   "id": "0e558e3d",
   "metadata": {},
   "outputs": [],
   "source": []
  }
 ],
 "metadata": {
  "kernelspec": {
   "display_name": "base",
   "language": "python",
   "name": "python3"
  },
  "language_info": {
   "codemirror_mode": {
    "name": "ipython",
    "version": 3
   },
   "file_extension": ".py",
   "mimetype": "text/x-python",
   "name": "python",
   "nbconvert_exporter": "python",
   "pygments_lexer": "ipython3",
   "version": "3.12.4"
  }
 },
 "nbformat": 4,
 "nbformat_minor": 5
}
