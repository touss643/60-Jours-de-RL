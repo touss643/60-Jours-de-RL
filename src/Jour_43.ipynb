{
 "cells": [
  {
   "cell_type": "markdown",
   "id": "7e2682e4-7887-4b35-9c5b-b33ae9947931",
   "metadata": {},
   "source": [
    "# **Jour 43 :** T\n"
   ]
  },
  {
   "cell_type": "code",
   "execution_count": 1,
   "id": "bd77b9a2",
   "metadata": {},
   "outputs": [
    {
     "name": "stdout",
     "output_type": "stream",
     "text": [
      "Hello !!!\n"
     ]
    }
   ],
   "source": [
    "print(\"Hello !!!\")"
   ]
  },
  {
   "cell_type": "code",
   "execution_count": 3,
   "id": "c221fa5c",
   "metadata": {},
   "outputs": [
    {
     "name": "stdout",
     "output_type": "stream",
     "text": [
      "Hi\n"
     ]
    }
   ],
   "source": [
    "print(\"Hi\")"
   ]
  }
 ],
 "metadata": {
  "kernelspec": {
   "display_name": "base",
   "language": "python",
   "name": "python3"
  },
  "language_info": {
   "codemirror_mode": {
    "name": "ipython",
    "version": 3
   },
   "file_extension": ".py",
   "mimetype": "text/x-python",
   "name": "python",
   "nbconvert_exporter": "python",
   "pygments_lexer": "ipython3",
   "version": "3.12.4"
  }
 },
 "nbformat": 4,
 "nbformat_minor": 5
}
