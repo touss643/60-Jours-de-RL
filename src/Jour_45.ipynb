{
 "cells": [
  {
   "cell_type": "markdown",
   "id": "c5e269ee",
   "metadata": {},
   "source": [
    "# **Jour 45 : Winequality-red**"
   ]
  }
 ],
 "metadata": {
  "language_info": {
   "name": "python"
  }
 },
 "nbformat": 4,
 "nbformat_minor": 5
}
