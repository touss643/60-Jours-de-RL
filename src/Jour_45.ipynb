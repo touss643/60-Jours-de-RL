{
 "cells": [
  {
   "cell_type": "markdown",
   "id": "c5e269ee",
   "metadata": {},
   "source": [
    "# **Jour 45 : Winequality-red**"
   ]
  },
  {
   "cell_type": "markdown",
   "id": "9665cf41",
   "metadata": {},
   "source": [
    "Cette base de données contient des informations sur **1596 échantillons de vins rouges portugais (Vinho Verde)**. Elle associe des mesures physico-chimiques (analysées en laboratoire) à des évaluations sensorielles (notes de qualité attribuées par des experts).\n",
    "\n",
    "L'objectif principal est de prédire la **qualité du vin** (notée de **0** à **10**) en fonction de ses propriétés chimiques."
   ]
  },
  {
   "cell_type": "markdown",
   "id": "a9ef31c8",
   "metadata": {},
   "source": [
    "$\\bigoplus$ **Signification des variables**"
   ]
  },
  {
   "cell_type": "markdown",
   "id": "39cb8304",
   "metadata": {},
   "source": [
    "+  fixed acidity :\tAcides fixes (acide tartrique, malique)\n",
    "+  volatile acidity :\tAcide acétique (trop élevé = goût de vinaigre)\n",
    "+  citric acid :\tAcidité citrique (fraîcheur et équilibre)\n",
    "+  residual sugar :\tSucre restant après fermentation (en g/L)\n",
    "+  chlorides :\tTeneur en sel (goût salé/métallique)\n",
    "+  free sulfur dioxide :\tSO₂ libre (antioxydant et conservateur)\n",
    "+  total sulfur dioxide :\tSO₂ total (libre + lié)\t\n",
    "+  density :\tDensité (liée à l'alcool et au sucre)\n",
    "+  pH : \tNiveau d'acidité (échelle 0-14)\t\n",
    "+  sulphates :\tSulfate de potassium (agent conservateur)\n",
    "+  alcohol :\tDegré d'alcool (% en volume)\n",
    "+  quality :\tNote sensorielle (experts)\t0 (très mauvais) → 10 (excellent)"
   ]
  },
  {
   "cell_type": "markdown",
   "id": "e58f89dc",
   "metadata": {},
   "source": [
    "## 0. Chargement des librairies"
   ]
  },
  {
   "cell_type": "code",
   "execution_count": 26,
   "id": "1d04aeba",
   "metadata": {},
   "outputs": [],
   "source": [
    "import pandas as pd\n",
    "import numpy as np\n",
    "import seaborn as sns\n",
    "import matplotlib.pyplot as plt\n",
    "from sklearn.linear_model import LinearRegression\n",
    "from sklearn.model_selection import train_test_split\n",
    "from sklearn.metrics import r2_score, mean_squared_error\n",
    "import plotly.express as px\n",
    "import statsmodels.api as sm\n",
    "from sklearn.preprocessing import StandardScaler"
   ]
  },
  {
   "cell_type": "markdown",
   "id": "f6bd4d44",
   "metadata": {},
   "source": [
    "## 1. Chargement de la base de données"
   ]
  },
  {
   "cell_type": "code",
   "execution_count": 27,
   "id": "5b4192a1",
   "metadata": {},
   "outputs": [],
   "source": [
    "data = pd.read_csv(\"../data/winequality-red.csv\")\n"
   ]
  },
  {
   "cell_type": "code",
   "execution_count": 28,
   "id": "a2f96012",
   "metadata": {},
   "outputs": [
    {
     "data": {
      "text/html": [
       "<div>\n",
       "<style scoped>\n",
       "    .dataframe tbody tr th:only-of-type {\n",
       "        vertical-align: middle;\n",
       "    }\n",
       "\n",
       "    .dataframe tbody tr th {\n",
       "        vertical-align: top;\n",
       "    }\n",
       "\n",
       "    .dataframe thead th {\n",
       "        text-align: right;\n",
       "    }\n",
       "</style>\n",
       "<table border=\"1\" class=\"dataframe\">\n",
       "  <thead>\n",
       "    <tr style=\"text-align: right;\">\n",
       "      <th></th>\n",
       "      <th>fixed acidity</th>\n",
       "      <th>volatile acidity</th>\n",
       "      <th>citric acid</th>\n",
       "      <th>residual sugar</th>\n",
       "      <th>chlorides</th>\n",
       "      <th>free sulfur dioxide</th>\n",
       "      <th>total sulfur dioxide</th>\n",
       "      <th>density</th>\n",
       "      <th>pH</th>\n",
       "      <th>sulphates</th>\n",
       "      <th>alcohol</th>\n",
       "      <th>quality</th>\n",
       "    </tr>\n",
       "  </thead>\n",
       "  <tbody>\n",
       "    <tr>\n",
       "      <th>0</th>\n",
       "      <td>7.4</td>\n",
       "      <td>0.70</td>\n",
       "      <td>0.00</td>\n",
       "      <td>1.9</td>\n",
       "      <td>0.076</td>\n",
       "      <td>11.0</td>\n",
       "      <td>34.0</td>\n",
       "      <td>0.9978</td>\n",
       "      <td>3.51</td>\n",
       "      <td>0.56</td>\n",
       "      <td>9.4</td>\n",
       "      <td>5</td>\n",
       "    </tr>\n",
       "    <tr>\n",
       "      <th>1</th>\n",
       "      <td>7.8</td>\n",
       "      <td>0.88</td>\n",
       "      <td>0.00</td>\n",
       "      <td>2.6</td>\n",
       "      <td>0.098</td>\n",
       "      <td>25.0</td>\n",
       "      <td>67.0</td>\n",
       "      <td>0.9968</td>\n",
       "      <td>3.20</td>\n",
       "      <td>0.68</td>\n",
       "      <td>9.8</td>\n",
       "      <td>5</td>\n",
       "    </tr>\n",
       "    <tr>\n",
       "      <th>2</th>\n",
       "      <td>7.8</td>\n",
       "      <td>0.76</td>\n",
       "      <td>0.04</td>\n",
       "      <td>2.3</td>\n",
       "      <td>0.092</td>\n",
       "      <td>15.0</td>\n",
       "      <td>54.0</td>\n",
       "      <td>0.9970</td>\n",
       "      <td>3.26</td>\n",
       "      <td>0.65</td>\n",
       "      <td>9.8</td>\n",
       "      <td>5</td>\n",
       "    </tr>\n",
       "    <tr>\n",
       "      <th>3</th>\n",
       "      <td>11.2</td>\n",
       "      <td>0.28</td>\n",
       "      <td>0.56</td>\n",
       "      <td>1.9</td>\n",
       "      <td>0.075</td>\n",
       "      <td>17.0</td>\n",
       "      <td>60.0</td>\n",
       "      <td>0.9980</td>\n",
       "      <td>3.16</td>\n",
       "      <td>0.58</td>\n",
       "      <td>9.8</td>\n",
       "      <td>6</td>\n",
       "    </tr>\n",
       "    <tr>\n",
       "      <th>4</th>\n",
       "      <td>7.4</td>\n",
       "      <td>0.70</td>\n",
       "      <td>0.00</td>\n",
       "      <td>1.9</td>\n",
       "      <td>0.076</td>\n",
       "      <td>11.0</td>\n",
       "      <td>34.0</td>\n",
       "      <td>0.9978</td>\n",
       "      <td>3.51</td>\n",
       "      <td>0.56</td>\n",
       "      <td>9.4</td>\n",
       "      <td>5</td>\n",
       "    </tr>\n",
       "  </tbody>\n",
       "</table>\n",
       "</div>"
      ],
      "text/plain": [
       "   fixed acidity  volatile acidity  citric acid  residual sugar  chlorides  \\\n",
       "0            7.4              0.70         0.00             1.9      0.076   \n",
       "1            7.8              0.88         0.00             2.6      0.098   \n",
       "2            7.8              0.76         0.04             2.3      0.092   \n",
       "3           11.2              0.28         0.56             1.9      0.075   \n",
       "4            7.4              0.70         0.00             1.9      0.076   \n",
       "\n",
       "   free sulfur dioxide  total sulfur dioxide  density    pH  sulphates  \\\n",
       "0                 11.0                  34.0   0.9978  3.51       0.56   \n",
       "1                 25.0                  67.0   0.9968  3.20       0.68   \n",
       "2                 15.0                  54.0   0.9970  3.26       0.65   \n",
       "3                 17.0                  60.0   0.9980  3.16       0.58   \n",
       "4                 11.0                  34.0   0.9978  3.51       0.56   \n",
       "\n",
       "   alcohol  quality  \n",
       "0      9.4        5  \n",
       "1      9.8        5  \n",
       "2      9.8        5  \n",
       "3      9.8        6  \n",
       "4      9.4        5  "
      ]
     },
     "execution_count": 28,
     "metadata": {},
     "output_type": "execute_result"
    }
   ],
   "source": [
    "data.head()"
   ]
  },
  {
   "cell_type": "markdown",
   "id": "6850ffea",
   "metadata": {},
   "source": [
    "## 2. Valeurs manquantes et Statistiques Descriptives"
   ]
  },
  {
   "cell_type": "markdown",
   "id": "2d300ce6",
   "metadata": {},
   "source": [
    "### 2.1. Vérification des valeurs manquantes"
   ]
  },
  {
   "cell_type": "code",
   "execution_count": 29,
   "id": "63640b3f",
   "metadata": {},
   "outputs": [
    {
     "name": "stdout",
     "output_type": "stream",
     "text": [
      "fixed acidity           0\n",
      "volatile acidity        0\n",
      "citric acid             0\n",
      "residual sugar          0\n",
      "chlorides               0\n",
      "free sulfur dioxide     0\n",
      "total sulfur dioxide    0\n",
      "density                 0\n",
      "pH                      0\n",
      "sulphates               0\n",
      "alcohol                 0\n",
      "quality                 0\n",
      "dtype: int64\n"
     ]
    }
   ],
   "source": [
    "print(data.isnull().sum())"
   ]
  },
  {
   "cell_type": "markdown",
   "id": "a92b9976",
   "metadata": {},
   "source": [
    "Aucune valeur manquante dans la base."
   ]
  },
  {
   "cell_type": "markdown",
   "id": "ea829984",
   "metadata": {},
   "source": [
    "### 2.2. Statistiques Descriptives"
   ]
  },
  {
   "cell_type": "code",
   "execution_count": 30,
   "id": "4d28f8d4",
   "metadata": {},
   "outputs": [
    {
     "data": {
      "text/html": [
       "<style type=\"text/css\">\n",
       "#T_3a96a_row0_col0, #T_3a96a_row0_col1, #T_3a96a_row0_col2, #T_3a96a_row0_col3, #T_3a96a_row0_col4, #T_3a96a_row0_col5, #T_3a96a_row0_col6, #T_3a96a_row0_col7, #T_3a96a_row0_col8, #T_3a96a_row0_col9, #T_3a96a_row0_col10, #T_3a96a_row0_col11 {\n",
       "  background-color: #08306b;\n",
       "  color: #f1f1f1;\n",
       "}\n",
       "#T_3a96a_row1_col0, #T_3a96a_row1_col10, #T_3a96a_row2_col5, #T_3a96a_row3_col10, #T_3a96a_row4_col10, #T_3a96a_row5_col10, #T_3a96a_row6_col0, #T_3a96a_row6_col10, #T_3a96a_row7_col11 {\n",
       "  background-color: #f6faff;\n",
       "  color: #000000;\n",
       "}\n",
       "#T_3a96a_row1_col1, #T_3a96a_row1_col2, #T_3a96a_row1_col3, #T_3a96a_row1_col4, #T_3a96a_row1_col7, #T_3a96a_row1_col8, #T_3a96a_row1_col9, #T_3a96a_row1_col11, #T_3a96a_row2_col0, #T_3a96a_row2_col1, #T_3a96a_row2_col2, #T_3a96a_row2_col3, #T_3a96a_row2_col4, #T_3a96a_row2_col7, #T_3a96a_row2_col8, #T_3a96a_row2_col9, #T_3a96a_row2_col10, #T_3a96a_row2_col11, #T_3a96a_row3_col0, #T_3a96a_row3_col1, #T_3a96a_row3_col2, #T_3a96a_row3_col3, #T_3a96a_row3_col4, #T_3a96a_row3_col5, #T_3a96a_row3_col6, #T_3a96a_row3_col7, #T_3a96a_row3_col8, #T_3a96a_row3_col9, #T_3a96a_row3_col11, #T_3a96a_row4_col0, #T_3a96a_row4_col1, #T_3a96a_row4_col2, #T_3a96a_row4_col3, #T_3a96a_row4_col4, #T_3a96a_row4_col5, #T_3a96a_row4_col7, #T_3a96a_row4_col8, #T_3a96a_row4_col9, #T_3a96a_row4_col11, #T_3a96a_row5_col0, #T_3a96a_row5_col1, #T_3a96a_row5_col2, #T_3a96a_row5_col3, #T_3a96a_row5_col4, #T_3a96a_row5_col7, #T_3a96a_row5_col8, #T_3a96a_row5_col9, #T_3a96a_row5_col11, #T_3a96a_row6_col1, #T_3a96a_row6_col2, #T_3a96a_row6_col3, #T_3a96a_row6_col4, #T_3a96a_row6_col7, #T_3a96a_row6_col8, #T_3a96a_row6_col9, #T_3a96a_row6_col11, #T_3a96a_row7_col1, #T_3a96a_row7_col2, #T_3a96a_row7_col4, #T_3a96a_row7_col7, #T_3a96a_row7_col8, #T_3a96a_row7_col9 {\n",
       "  background-color: #f7fbff;\n",
       "  color: #000000;\n",
       "}\n",
       "#T_3a96a_row1_col5, #T_3a96a_row4_col6, #T_3a96a_row5_col5, #T_3a96a_row7_col0, #T_3a96a_row7_col3, #T_3a96a_row7_col10 {\n",
       "  background-color: #f5fafe;\n",
       "  color: #000000;\n",
       "}\n",
       "#T_3a96a_row1_col6 {\n",
       "  background-color: #f2f8fd;\n",
       "  color: #000000;\n",
       "}\n",
       "#T_3a96a_row2_col6 {\n",
       "  background-color: #f4f9fe;\n",
       "  color: #000000;\n",
       "}\n",
       "#T_3a96a_row5_col6 {\n",
       "  background-color: #f3f8fe;\n",
       "  color: #000000;\n",
       "}\n",
       "#T_3a96a_row6_col5 {\n",
       "  background-color: #f5f9fe;\n",
       "  color: #000000;\n",
       "}\n",
       "#T_3a96a_row6_col6 {\n",
       "  background-color: #f0f6fd;\n",
       "  color: #000000;\n",
       "}\n",
       "#T_3a96a_row7_col5 {\n",
       "  background-color: #eef5fc;\n",
       "  color: #000000;\n",
       "}\n",
       "#T_3a96a_row7_col6 {\n",
       "  background-color: #d4e4f4;\n",
       "  color: #000000;\n",
       "}\n",
       "</style>\n",
       "<table id=\"T_3a96a\">\n",
       "  <thead>\n",
       "    <tr>\n",
       "      <th class=\"blank level0\" >&nbsp;</th>\n",
       "      <th id=\"T_3a96a_level0_col0\" class=\"col_heading level0 col0\" >fixed acidity</th>\n",
       "      <th id=\"T_3a96a_level0_col1\" class=\"col_heading level0 col1\" >volatile acidity</th>\n",
       "      <th id=\"T_3a96a_level0_col2\" class=\"col_heading level0 col2\" >citric acid</th>\n",
       "      <th id=\"T_3a96a_level0_col3\" class=\"col_heading level0 col3\" >residual sugar</th>\n",
       "      <th id=\"T_3a96a_level0_col4\" class=\"col_heading level0 col4\" >chlorides</th>\n",
       "      <th id=\"T_3a96a_level0_col5\" class=\"col_heading level0 col5\" >free sulfur dioxide</th>\n",
       "      <th id=\"T_3a96a_level0_col6\" class=\"col_heading level0 col6\" >total sulfur dioxide</th>\n",
       "      <th id=\"T_3a96a_level0_col7\" class=\"col_heading level0 col7\" >density</th>\n",
       "      <th id=\"T_3a96a_level0_col8\" class=\"col_heading level0 col8\" >pH</th>\n",
       "      <th id=\"T_3a96a_level0_col9\" class=\"col_heading level0 col9\" >sulphates</th>\n",
       "      <th id=\"T_3a96a_level0_col10\" class=\"col_heading level0 col10\" >alcohol</th>\n",
       "      <th id=\"T_3a96a_level0_col11\" class=\"col_heading level0 col11\" >quality</th>\n",
       "    </tr>\n",
       "  </thead>\n",
       "  <tbody>\n",
       "    <tr>\n",
       "      <th id=\"T_3a96a_level0_row0\" class=\"row_heading level0 row0\" >count</th>\n",
       "      <td id=\"T_3a96a_row0_col0\" class=\"data row0 col0\" >1596.000000</td>\n",
       "      <td id=\"T_3a96a_row0_col1\" class=\"data row0 col1\" >1596.000000</td>\n",
       "      <td id=\"T_3a96a_row0_col2\" class=\"data row0 col2\" >1596.000000</td>\n",
       "      <td id=\"T_3a96a_row0_col3\" class=\"data row0 col3\" >1596.000000</td>\n",
       "      <td id=\"T_3a96a_row0_col4\" class=\"data row0 col4\" >1596.000000</td>\n",
       "      <td id=\"T_3a96a_row0_col5\" class=\"data row0 col5\" >1596.000000</td>\n",
       "      <td id=\"T_3a96a_row0_col6\" class=\"data row0 col6\" >1596.000000</td>\n",
       "      <td id=\"T_3a96a_row0_col7\" class=\"data row0 col7\" >1596.000000</td>\n",
       "      <td id=\"T_3a96a_row0_col8\" class=\"data row0 col8\" >1596.000000</td>\n",
       "      <td id=\"T_3a96a_row0_col9\" class=\"data row0 col9\" >1596.000000</td>\n",
       "      <td id=\"T_3a96a_row0_col10\" class=\"data row0 col10\" >1596.000000</td>\n",
       "      <td id=\"T_3a96a_row0_col11\" class=\"data row0 col11\" >1596.000000</td>\n",
       "    </tr>\n",
       "    <tr>\n",
       "      <th id=\"T_3a96a_level0_row1\" class=\"row_heading level0 row1\" >mean</th>\n",
       "      <td id=\"T_3a96a_row1_col0\" class=\"data row1 col0\" >8.314160</td>\n",
       "      <td id=\"T_3a96a_row1_col1\" class=\"data row1 col1\" >0.527954</td>\n",
       "      <td id=\"T_3a96a_row1_col2\" class=\"data row1 col2\" >0.270276</td>\n",
       "      <td id=\"T_3a96a_row1_col3\" class=\"data row1 col3\" >2.535558</td>\n",
       "      <td id=\"T_3a96a_row1_col4\" class=\"data row1 col4\" >0.087120</td>\n",
       "      <td id=\"T_3a96a_row1_col5\" class=\"data row1 col5\" >15.858396</td>\n",
       "      <td id=\"T_3a96a_row1_col6\" class=\"data row1 col6\" >46.382206</td>\n",
       "      <td id=\"T_3a96a_row1_col7\" class=\"data row1 col7\" >0.996744</td>\n",
       "      <td id=\"T_3a96a_row1_col8\" class=\"data row1 col8\" >3.311917</td>\n",
       "      <td id=\"T_3a96a_row1_col9\" class=\"data row1 col9\" >0.656385</td>\n",
       "      <td id=\"T_3a96a_row1_col10\" class=\"data row1 col10\" >10.421147</td>\n",
       "      <td id=\"T_3a96a_row1_col11\" class=\"data row1 col11\" >5.637218</td>\n",
       "    </tr>\n",
       "    <tr>\n",
       "      <th id=\"T_3a96a_level0_row2\" class=\"row_heading level0 row2\" >std</th>\n",
       "      <td id=\"T_3a96a_row2_col0\" class=\"data row2 col0\" >1.732203</td>\n",
       "      <td id=\"T_3a96a_row2_col1\" class=\"data row2 col1\" >0.179176</td>\n",
       "      <td id=\"T_3a96a_row2_col2\" class=\"data row2 col2\" >0.193894</td>\n",
       "      <td id=\"T_3a96a_row2_col3\" class=\"data row2 col3\" >1.405515</td>\n",
       "      <td id=\"T_3a96a_row2_col4\" class=\"data row2 col4\" >0.045251</td>\n",
       "      <td id=\"T_3a96a_row2_col5\" class=\"data row2 col5\" >10.460554</td>\n",
       "      <td id=\"T_3a96a_row2_col6\" class=\"data row2 col6\" >32.839138</td>\n",
       "      <td id=\"T_3a96a_row2_col7\" class=\"data row2 col7\" >0.001888</td>\n",
       "      <td id=\"T_3a96a_row2_col8\" class=\"data row2 col8\" >0.153346</td>\n",
       "      <td id=\"T_3a96a_row2_col9\" class=\"data row2 col9\" >0.163057</td>\n",
       "      <td id=\"T_3a96a_row2_col10\" class=\"data row2 col10\" >1.060371</td>\n",
       "      <td id=\"T_3a96a_row2_col11\" class=\"data row2 col11\" >0.807080</td>\n",
       "    </tr>\n",
       "    <tr>\n",
       "      <th id=\"T_3a96a_level0_row3\" class=\"row_heading level0 row3\" >min</th>\n",
       "      <td id=\"T_3a96a_row3_col0\" class=\"data row3 col0\" >4.600000</td>\n",
       "      <td id=\"T_3a96a_row3_col1\" class=\"data row3 col1\" >0.120000</td>\n",
       "      <td id=\"T_3a96a_row3_col2\" class=\"data row3 col2\" >0.000000</td>\n",
       "      <td id=\"T_3a96a_row3_col3\" class=\"data row3 col3\" >0.900000</td>\n",
       "      <td id=\"T_3a96a_row3_col4\" class=\"data row3 col4\" >0.012000</td>\n",
       "      <td id=\"T_3a96a_row3_col5\" class=\"data row3 col5\" >1.000000</td>\n",
       "      <td id=\"T_3a96a_row3_col6\" class=\"data row3 col6\" >6.000000</td>\n",
       "      <td id=\"T_3a96a_row3_col7\" class=\"data row3 col7\" >0.990070</td>\n",
       "      <td id=\"T_3a96a_row3_col8\" class=\"data row3 col8\" >2.860000</td>\n",
       "      <td id=\"T_3a96a_row3_col9\" class=\"data row3 col9\" >0.330000</td>\n",
       "      <td id=\"T_3a96a_row3_col10\" class=\"data row3 col10\" >8.400000</td>\n",
       "      <td id=\"T_3a96a_row3_col11\" class=\"data row3 col11\" >3.000000</td>\n",
       "    </tr>\n",
       "    <tr>\n",
       "      <th id=\"T_3a96a_level0_row4\" class=\"row_heading level0 row4\" >25%</th>\n",
       "      <td id=\"T_3a96a_row4_col0\" class=\"data row4 col0\" >7.100000</td>\n",
       "      <td id=\"T_3a96a_row4_col1\" class=\"data row4 col1\" >0.390000</td>\n",
       "      <td id=\"T_3a96a_row4_col2\" class=\"data row4 col2\" >0.090000</td>\n",
       "      <td id=\"T_3a96a_row4_col3\" class=\"data row4 col3\" >1.900000</td>\n",
       "      <td id=\"T_3a96a_row4_col4\" class=\"data row4 col4\" >0.070000</td>\n",
       "      <td id=\"T_3a96a_row4_col5\" class=\"data row4 col5\" >7.000000</td>\n",
       "      <td id=\"T_3a96a_row4_col6\" class=\"data row4 col6\" >22.000000</td>\n",
       "      <td id=\"T_3a96a_row4_col7\" class=\"data row4 col7\" >0.995600</td>\n",
       "      <td id=\"T_3a96a_row4_col8\" class=\"data row4 col8\" >3.210000</td>\n",
       "      <td id=\"T_3a96a_row4_col9\" class=\"data row4 col9\" >0.550000</td>\n",
       "      <td id=\"T_3a96a_row4_col10\" class=\"data row4 col10\" >9.500000</td>\n",
       "      <td id=\"T_3a96a_row4_col11\" class=\"data row4 col11\" >5.000000</td>\n",
       "    </tr>\n",
       "    <tr>\n",
       "      <th id=\"T_3a96a_level0_row5\" class=\"row_heading level0 row5\" >50%</th>\n",
       "      <td id=\"T_3a96a_row5_col0\" class=\"data row5 col0\" >7.900000</td>\n",
       "      <td id=\"T_3a96a_row5_col1\" class=\"data row5 col1\" >0.520000</td>\n",
       "      <td id=\"T_3a96a_row5_col2\" class=\"data row5 col2\" >0.260000</td>\n",
       "      <td id=\"T_3a96a_row5_col3\" class=\"data row5 col3\" >2.200000</td>\n",
       "      <td id=\"T_3a96a_row5_col4\" class=\"data row5 col4\" >0.079000</td>\n",
       "      <td id=\"T_3a96a_row5_col5\" class=\"data row5 col5\" >14.000000</td>\n",
       "      <td id=\"T_3a96a_row5_col6\" class=\"data row5 col6\" >38.000000</td>\n",
       "      <td id=\"T_3a96a_row5_col7\" class=\"data row5 col7\" >0.996745</td>\n",
       "      <td id=\"T_3a96a_row5_col8\" class=\"data row5 col8\" >3.310000</td>\n",
       "      <td id=\"T_3a96a_row5_col9\" class=\"data row5 col9\" >0.620000</td>\n",
       "      <td id=\"T_3a96a_row5_col10\" class=\"data row5 col10\" >10.200000</td>\n",
       "      <td id=\"T_3a96a_row5_col11\" class=\"data row5 col11\" >6.000000</td>\n",
       "    </tr>\n",
       "    <tr>\n",
       "      <th id=\"T_3a96a_level0_row6\" class=\"row_heading level0 row6\" >75%</th>\n",
       "      <td id=\"T_3a96a_row6_col0\" class=\"data row6 col0\" >9.200000</td>\n",
       "      <td id=\"T_3a96a_row6_col1\" class=\"data row6 col1\" >0.640000</td>\n",
       "      <td id=\"T_3a96a_row6_col2\" class=\"data row6 col2\" >0.420000</td>\n",
       "      <td id=\"T_3a96a_row6_col3\" class=\"data row6 col3\" >2.600000</td>\n",
       "      <td id=\"T_3a96a_row6_col4\" class=\"data row6 col4\" >0.090000</td>\n",
       "      <td id=\"T_3a96a_row6_col5\" class=\"data row6 col5\" >21.000000</td>\n",
       "      <td id=\"T_3a96a_row6_col6\" class=\"data row6 col6\" >62.000000</td>\n",
       "      <td id=\"T_3a96a_row6_col7\" class=\"data row6 col7\" >0.997833</td>\n",
       "      <td id=\"T_3a96a_row6_col8\" class=\"data row6 col8\" >3.400000</td>\n",
       "      <td id=\"T_3a96a_row6_col9\" class=\"data row6 col9\" >0.730000</td>\n",
       "      <td id=\"T_3a96a_row6_col10\" class=\"data row6 col10\" >11.100000</td>\n",
       "      <td id=\"T_3a96a_row6_col11\" class=\"data row6 col11\" >6.000000</td>\n",
       "    </tr>\n",
       "    <tr>\n",
       "      <th id=\"T_3a96a_level0_row7\" class=\"row_heading level0 row7\" >max</th>\n",
       "      <td id=\"T_3a96a_row7_col0\" class=\"data row7 col0\" >15.600000</td>\n",
       "      <td id=\"T_3a96a_row7_col1\" class=\"data row7 col1\" >1.580000</td>\n",
       "      <td id=\"T_3a96a_row7_col2\" class=\"data row7 col2\" >0.790000</td>\n",
       "      <td id=\"T_3a96a_row7_col3\" class=\"data row7 col3\" >15.500000</td>\n",
       "      <td id=\"T_3a96a_row7_col4\" class=\"data row7 col4\" >0.611000</td>\n",
       "      <td id=\"T_3a96a_row7_col5\" class=\"data row7 col5\" >72.000000</td>\n",
       "      <td id=\"T_3a96a_row7_col6\" class=\"data row7 col6\" >289.000000</td>\n",
       "      <td id=\"T_3a96a_row7_col7\" class=\"data row7 col7\" >1.003690</td>\n",
       "      <td id=\"T_3a96a_row7_col8\" class=\"data row7 col8\" >4.010000</td>\n",
       "      <td id=\"T_3a96a_row7_col9\" class=\"data row7 col9\" >1.980000</td>\n",
       "      <td id=\"T_3a96a_row7_col10\" class=\"data row7 col10\" >14.000000</td>\n",
       "      <td id=\"T_3a96a_row7_col11\" class=\"data row7 col11\" >8.000000</td>\n",
       "    </tr>\n",
       "  </tbody>\n",
       "</table>\n"
      ],
      "text/plain": [
       "<pandas.io.formats.style.Styler at 0x23209168d70>"
      ]
     },
     "metadata": {},
     "output_type": "display_data"
    }
   ],
   "source": [
    "display(data.describe().style.background_gradient(cmap='Blues'))"
   ]
  },
  {
   "cell_type": "markdown",
   "id": "c520bc83",
   "metadata": {},
   "source": [
    "Sur les 1596 échantillons de vin rouges, si les bouteilles devraient avoir la même qualité alors chaque bouteille serait notée **5,63** avec un écart de **±0,80 unité** par rapport à cette dernière. "
   ]
  },
  {
   "cell_type": "markdown",
   "id": "c97a3bf7",
   "metadata": {},
   "source": [
    "## 3. Explorations Visuelles"
   ]
  },
  {
   "cell_type": "markdown",
   "id": "2e066582",
   "metadata": {},
   "source": [
    "### 3.1. Distribution des Notes"
   ]
  },
  {
   "cell_type": "code",
   "execution_count": 31,
   "id": "d0368b93",
   "metadata": {},
   "outputs": [
    {
     "data": {
      "application/vnd.plotly.v1+json": {
       "config": {
        "plotlyServerURL": "https://plot.ly"
       },
       "data": [
        {
         "alignmentgroup": "True",
         "bingroup": "x",
         "hovertemplate": "quality=%{x}<br>count=%{y}<extra></extra>",
         "legendgroup": "",
         "marker": {
          "color": "#722F37",
          "pattern": {
           "shape": ""
          }
         },
         "name": "",
         "nbinsx": 10,
         "offsetgroup": "",
         "orientation": "v",
         "showlegend": false,
         "type": "histogram",
         "x": [
          5,
          5,
          5,
          6,
          5,
          5,
          5,
          7,
          7,
          5,
          5,
          5,
          5,
          5,
          5,
          5,
          7,
          5,
          4,
          6,
          6,
          5,
          5,
          5,
          6,
          5,
          5,
          5,
          5,
          6,
          5,
          6,
          5,
          6,
          5,
          6,
          6,
          7,
          4,
          5,
          5,
          4,
          6,
          5,
          5,
          4,
          5,
          5,
          5,
          5,
          5,
          6,
          6,
          5,
          6,
          5,
          5,
          5,
          5,
          6,
          5,
          5,
          7,
          5,
          5,
          5,
          5,
          5,
          5,
          6,
          6,
          5,
          5,
          4,
          5,
          5,
          5,
          6,
          5,
          4,
          5,
          5,
          5,
          5,
          6,
          5,
          6,
          5,
          5,
          5,
          5,
          5,
          5,
          4,
          6,
          5,
          5,
          5,
          6,
          6,
          6,
          6,
          5,
          5,
          5,
          5,
          5,
          6,
          5,
          5,
          5,
          5,
          6,
          5,
          6,
          6,
          6,
          6,
          6,
          5,
          6,
          5,
          5,
          5,
          5,
          5,
          5,
          7,
          5,
          5,
          5,
          5,
          6,
          6,
          5,
          5,
          5,
          5,
          5,
          5,
          5,
          6,
          5,
          6,
          5,
          5,
          5,
          6,
          6,
          6,
          5,
          5,
          5,
          5,
          5,
          5,
          5,
          6,
          5,
          4,
          6,
          5,
          5,
          5,
          5,
          4,
          6,
          5,
          4,
          6,
          6,
          6,
          5,
          5,
          5,
          6,
          5,
          5,
          5,
          5,
          5,
          5,
          6,
          5,
          5,
          5,
          5,
          5,
          5,
          6,
          5,
          5,
          5,
          5,
          5,
          6,
          7,
          4,
          7,
          5,
          5,
          5,
          6,
          7,
          7,
          5,
          5,
          7,
          6,
          6,
          6,
          5,
          6,
          5,
          5,
          5,
          5,
          5,
          6,
          5,
          5,
          6,
          4,
          6,
          6,
          5,
          6,
          5,
          7,
          6,
          6,
          5,
          6,
          6,
          6,
          6,
          6,
          6,
          5,
          6,
          6,
          7,
          7,
          6,
          5,
          5,
          6,
          6,
          6,
          6,
          5,
          5,
          6,
          5,
          5,
          5,
          5,
          7,
          5,
          4,
          5,
          5,
          5,
          7,
          4,
          8,
          6,
          6,
          6,
          6,
          5,
          5,
          5,
          6,
          6,
          6,
          8,
          7,
          6,
          7,
          5,
          7,
          5,
          5,
          6,
          6,
          7,
          5,
          7,
          5,
          6,
          6,
          6,
          5,
          5,
          5,
          5,
          5,
          6,
          6,
          5,
          5,
          5,
          6,
          5,
          6,
          6,
          6,
          6,
          6,
          6,
          5,
          5,
          6,
          5,
          6,
          7,
          6,
          7,
          5,
          5,
          6,
          6,
          6,
          7,
          5,
          6,
          5,
          6,
          6,
          6,
          5,
          7,
          7,
          6,
          5,
          6,
          7,
          6,
          6,
          6,
          6,
          6,
          5,
          7,
          6,
          6,
          6,
          6,
          6,
          5,
          5,
          6,
          6,
          5,
          7,
          7,
          6,
          5,
          6,
          5,
          5,
          7,
          6,
          7,
          5,
          5,
          7,
          5,
          6,
          6,
          5,
          6,
          7,
          6,
          7,
          6,
          6,
          6,
          6,
          6,
          6,
          5,
          6,
          6,
          6,
          6,
          7,
          8,
          6,
          5,
          5,
          5,
          7,
          5,
          6,
          6,
          5,
          5,
          6,
          6,
          6,
          5,
          6,
          6,
          7,
          6,
          4,
          6,
          5,
          5,
          7,
          5,
          5,
          6,
          5,
          6,
          5,
          7,
          7,
          5,
          7,
          5,
          7,
          6,
          6,
          5,
          6,
          7,
          5,
          6,
          5,
          6,
          5,
          6,
          6,
          6,
          5,
          8,
          6,
          7,
          7,
          7,
          6,
          5,
          5,
          6,
          6,
          6,
          6,
          6,
          7,
          5,
          8,
          5,
          5,
          7,
          3,
          6,
          5,
          5,
          5,
          6,
          5,
          6,
          6,
          6,
          5,
          5,
          6,
          6,
          5,
          6,
          5,
          5,
          6,
          5,
          6,
          5,
          8,
          5,
          5,
          6,
          5,
          5,
          6,
          7,
          6,
          6,
          7,
          7,
          6,
          6,
          8,
          6,
          5,
          8,
          6,
          6,
          7,
          7,
          7,
          7,
          7,
          7,
          6,
          6,
          7,
          5,
          6,
          6,
          7,
          7,
          5,
          6,
          3,
          6,
          5,
          6,
          5,
          5,
          5,
          5,
          5,
          5,
          6,
          6,
          5,
          6,
          5,
          5,
          6,
          6,
          6,
          5,
          6,
          7,
          5,
          5,
          6,
          5,
          6,
          6,
          5,
          6,
          6,
          6,
          6,
          6,
          6,
          6,
          5,
          5,
          5,
          6,
          5,
          6,
          6,
          5,
          5,
          5,
          6,
          6,
          5,
          6,
          6,
          6,
          6,
          6,
          6,
          5,
          4,
          6,
          6,
          4,
          5,
          5,
          6,
          5,
          5,
          5,
          7,
          7,
          6,
          7,
          5,
          8,
          7,
          5,
          6,
          5,
          5,
          5,
          5,
          6,
          6,
          6,
          6,
          4,
          6,
          5,
          6,
          6,
          6,
          7,
          6,
          6,
          6,
          5,
          5,
          6,
          5,
          6,
          5,
          5,
          6,
          5,
          5,
          5,
          5,
          5,
          6,
          5,
          5,
          5,
          5,
          6,
          5,
          6,
          5,
          6,
          4,
          5,
          5,
          5,
          5,
          7,
          6,
          5,
          5,
          5,
          5,
          5,
          7,
          5,
          4,
          7,
          6,
          5,
          5,
          6,
          5,
          5,
          5,
          7,
          6,
          4,
          6,
          5,
          6,
          6,
          5,
          5,
          6,
          6,
          5,
          6,
          5,
          5,
          5,
          5,
          6,
          5,
          6,
          5,
          5,
          5,
          5,
          6,
          5,
          5,
          5,
          5,
          5,
          5,
          5,
          5,
          3,
          5,
          5,
          5,
          5,
          6,
          6,
          6,
          5,
          6,
          6,
          6,
          6,
          4,
          4,
          5,
          5,
          5,
          6,
          6,
          5,
          5,
          5,
          5,
          5,
          6,
          5,
          5,
          5,
          5,
          5,
          5,
          5,
          5,
          4,
          5,
          6,
          5,
          5,
          6,
          5,
          5,
          5,
          5,
          5,
          5,
          5,
          6,
          5,
          5,
          6,
          5,
          5,
          5,
          5,
          6,
          6,
          5,
          6,
          6,
          5,
          5,
          5,
          5,
          6,
          6,
          6,
          5,
          5,
          5,
          5,
          5,
          6,
          5,
          6,
          6,
          5,
          5,
          6,
          5,
          6,
          5,
          5,
          6,
          6,
          5,
          6,
          6,
          5,
          5,
          6,
          5,
          5,
          5,
          5,
          5,
          5,
          6,
          6,
          5,
          6,
          5,
          6,
          5,
          6,
          5,
          5,
          7,
          6,
          6,
          5,
          5,
          7,
          6,
          6,
          7,
          7,
          7,
          5,
          6,
          5,
          6,
          5,
          4,
          6,
          5,
          6,
          6,
          5,
          5,
          5,
          7,
          5,
          5,
          5,
          5,
          7,
          5,
          8,
          6,
          4,
          6,
          3,
          4,
          5,
          5,
          7,
          7,
          7,
          5,
          7,
          5,
          6,
          5,
          6,
          5,
          5,
          6,
          5,
          5,
          5,
          5,
          5,
          6,
          6,
          7,
          6,
          7,
          7,
          6,
          5,
          6,
          5,
          5,
          5,
          5,
          6,
          6,
          6,
          6,
          6,
          5,
          4,
          7,
          7,
          7,
          4,
          6,
          6,
          5,
          5,
          6,
          6,
          5,
          6,
          5,
          6,
          7,
          6,
          5,
          5,
          5,
          6,
          5,
          6,
          6,
          7,
          6,
          7,
          3,
          5,
          7,
          7,
          7,
          7,
          5,
          5,
          6,
          6,
          6,
          6,
          6,
          6,
          7,
          6,
          6,
          5,
          6,
          6,
          6,
          5,
          6,
          6,
          6,
          5,
          7,
          6,
          4,
          5,
          7,
          5,
          5,
          6,
          5,
          5,
          6,
          6,
          4,
          7,
          5,
          7,
          7,
          7,
          7,
          7,
          7,
          7,
          7,
          7,
          7,
          7,
          7,
          7,
          7,
          6,
          5,
          6,
          6,
          7,
          5,
          6,
          5,
          5,
          6,
          6,
          6,
          7,
          5,
          6,
          5,
          6,
          6,
          7,
          5,
          7,
          5,
          5,
          5,
          7,
          5,
          6,
          5,
          6,
          6,
          5,
          6,
          7,
          5,
          5,
          6,
          5,
          5,
          6,
          5,
          5,
          6,
          7,
          7,
          6,
          6,
          7,
          7,
          7,
          7,
          5,
          7,
          7,
          7,
          7,
          5,
          7,
          6,
          5,
          6,
          6,
          6,
          7,
          6,
          6,
          5,
          6,
          6,
          5,
          6,
          7,
          6,
          6,
          5,
          6,
          7,
          7,
          7,
          5,
          6,
          6,
          7,
          7,
          5,
          7,
          6,
          5,
          6,
          6,
          7,
          6,
          6,
          6,
          5,
          6,
          6,
          5,
          5,
          5,
          7,
          6,
          6,
          7,
          5,
          7,
          7,
          6,
          8,
          6,
          6,
          6,
          6,
          7,
          7,
          7,
          5,
          7,
          5,
          6,
          6,
          5,
          7,
          6,
          5,
          5,
          7,
          6,
          7,
          6,
          6,
          6,
          5,
          7,
          6,
          7,
          7,
          8,
          6,
          6,
          7,
          6,
          5,
          6,
          5,
          7,
          5,
          6,
          6,
          6,
          6,
          6,
          5,
          6,
          7,
          5,
          6,
          6,
          7,
          6,
          6,
          6,
          6,
          6,
          6,
          6,
          5,
          8,
          6,
          6,
          6,
          4,
          7,
          6,
          6,
          5,
          6,
          6,
          5,
          7,
          7,
          7,
          6,
          6,
          6,
          5,
          6,
          6,
          6,
          6,
          6,
          5,
          6,
          6,
          7,
          6,
          6,
          7,
          6,
          5,
          6,
          6,
          5,
          7,
          7,
          6,
          5,
          7,
          6,
          7,
          5,
          5,
          5,
          5,
          7,
          6,
          6,
          6,
          6,
          6,
          6,
          6,
          6,
          4,
          7,
          5,
          6,
          6,
          5,
          6,
          5,
          5,
          6,
          5,
          6,
          5,
          4,
          6,
          5,
          7,
          5,
          6,
          6,
          6,
          6,
          6,
          6,
          6,
          7,
          8,
          5,
          7,
          7,
          7,
          5,
          7,
          7,
          6,
          5,
          6,
          6,
          6,
          6,
          6,
          6,
          6,
          6,
          6,
          6,
          6,
          6,
          6,
          5,
          5,
          5,
          7,
          5,
          6,
          5,
          5,
          4,
          6,
          4,
          6,
          6,
          4,
          4,
          5,
          5,
          6,
          5,
          6,
          5,
          5,
          5,
          6,
          6,
          6,
          5,
          5,
          5,
          5,
          5,
          5,
          6,
          6,
          6,
          5,
          4,
          5,
          4,
          6,
          6,
          6,
          6,
          6,
          8,
          6,
          6,
          5,
          5,
          6,
          6,
          4,
          6,
          6,
          7,
          6,
          6,
          6,
          6,
          5,
          5,
          6,
          5,
          5,
          5,
          5,
          6,
          6,
          4,
          6,
          5,
          5,
          6,
          6,
          3,
          6,
          6,
          6,
          5,
          5,
          5,
          5,
          4,
          5,
          5,
          5,
          6,
          5,
          6,
          6,
          6,
          6,
          6,
          6,
          6,
          5,
          6,
          5,
          7,
          6,
          6,
          6,
          6,
          5,
          6,
          6,
          5,
          6,
          5,
          5,
          6,
          5,
          5,
          5,
          6,
          6,
          6,
          6,
          6,
          5,
          6,
          5,
          5,
          5,
          5,
          5,
          6,
          5,
          5,
          5,
          5,
          5,
          6,
          5,
          6,
          5,
          5,
          6,
          4,
          6,
          5,
          5,
          6,
          6,
          4,
          5,
          6,
          5,
          5,
          3,
          5,
          5,
          6,
          6,
          6,
          6,
          5,
          5,
          5,
          5,
          5,
          5,
          5,
          5,
          5,
          6,
          5,
          5,
          5,
          5,
          6,
          5,
          5,
          7,
          6,
          5,
          5,
          6,
          8,
          6,
          7,
          6,
          6,
          7,
          6,
          6,
          6,
          6,
          5,
          5,
          5,
          5,
          7,
          5,
          5,
          5,
          5,
          6,
          4,
          6,
          6,
          6,
          5,
          5,
          5,
          5,
          6,
          6,
          7,
          6,
          6,
          5,
          5,
          5,
          6,
          7,
          6,
          5,
          5,
          6,
          6,
          5,
          5,
          5,
          8,
          7,
          7,
          7,
          5,
          6,
          6,
          6,
          5,
          5,
          7,
          6,
          4,
          6,
          6,
          5,
          5,
          7,
          4,
          7,
          3,
          5,
          5,
          6,
          5,
          5,
          7,
          5,
          7,
          3,
          5,
          4,
          5,
          4,
          5,
          4,
          5,
          5,
          5,
          5,
          6,
          6,
          5,
          5,
          5,
          7,
          6,
          5,
          6,
          6,
          6,
          5,
          5,
          5,
          6,
          6,
          3,
          6,
          6,
          6,
          5,
          6,
          5,
          6,
          6,
          6,
          6,
          5,
          6,
          5,
          5,
          6,
          4,
          5,
          5,
          6,
          5,
          6,
          6,
          6,
          6,
          6,
          5,
          6,
          5,
          7,
          6,
          6,
          6,
          5,
          5,
          6,
          7,
          6,
          6,
          7,
          6,
          5,
          5,
          5,
          8,
          5,
          5,
          6,
          5,
          6,
          7,
          5,
          6,
          5,
          5,
          5,
          5,
          5,
          5,
          5,
          6,
          6,
          5,
          5,
          6,
          6,
          6,
          5,
          6,
          6,
          6,
          6,
          6,
          6,
          5,
          6,
          5,
          5,
          5,
          7,
          6,
          6,
          6,
          6,
          5,
          6,
          6,
          6,
          6,
          5,
          6,
          6,
          5,
          6
         ],
         "xaxis": "x",
         "yaxis": "y"
        }
       ],
       "layout": {
        "bargap": 0.1,
        "barmode": "relative",
        "legend": {
         "tracegroupgap": 0
        },
        "template": {
         "data": {
          "bar": [
           {
            "error_x": {
             "color": "#2a3f5f"
            },
            "error_y": {
             "color": "#2a3f5f"
            },
            "marker": {
             "line": {
              "color": "#E5ECF6",
              "width": 0.5
             },
             "pattern": {
              "fillmode": "overlay",
              "size": 10,
              "solidity": 0.2
             }
            },
            "type": "bar"
           }
          ],
          "barpolar": [
           {
            "marker": {
             "line": {
              "color": "#E5ECF6",
              "width": 0.5
             },
             "pattern": {
              "fillmode": "overlay",
              "size": 10,
              "solidity": 0.2
             }
            },
            "type": "barpolar"
           }
          ],
          "carpet": [
           {
            "aaxis": {
             "endlinecolor": "#2a3f5f",
             "gridcolor": "white",
             "linecolor": "white",
             "minorgridcolor": "white",
             "startlinecolor": "#2a3f5f"
            },
            "baxis": {
             "endlinecolor": "#2a3f5f",
             "gridcolor": "white",
             "linecolor": "white",
             "minorgridcolor": "white",
             "startlinecolor": "#2a3f5f"
            },
            "type": "carpet"
           }
          ],
          "choropleth": [
           {
            "colorbar": {
             "outlinewidth": 0,
             "ticks": ""
            },
            "type": "choropleth"
           }
          ],
          "contour": [
           {
            "colorbar": {
             "outlinewidth": 0,
             "ticks": ""
            },
            "colorscale": [
             [
              0,
              "#0d0887"
             ],
             [
              0.1111111111111111,
              "#46039f"
             ],
             [
              0.2222222222222222,
              "#7201a8"
             ],
             [
              0.3333333333333333,
              "#9c179e"
             ],
             [
              0.4444444444444444,
              "#bd3786"
             ],
             [
              0.5555555555555556,
              "#d8576b"
             ],
             [
              0.6666666666666666,
              "#ed7953"
             ],
             [
              0.7777777777777778,
              "#fb9f3a"
             ],
             [
              0.8888888888888888,
              "#fdca26"
             ],
             [
              1,
              "#f0f921"
             ]
            ],
            "type": "contour"
           }
          ],
          "contourcarpet": [
           {
            "colorbar": {
             "outlinewidth": 0,
             "ticks": ""
            },
            "type": "contourcarpet"
           }
          ],
          "heatmap": [
           {
            "colorbar": {
             "outlinewidth": 0,
             "ticks": ""
            },
            "colorscale": [
             [
              0,
              "#0d0887"
             ],
             [
              0.1111111111111111,
              "#46039f"
             ],
             [
              0.2222222222222222,
              "#7201a8"
             ],
             [
              0.3333333333333333,
              "#9c179e"
             ],
             [
              0.4444444444444444,
              "#bd3786"
             ],
             [
              0.5555555555555556,
              "#d8576b"
             ],
             [
              0.6666666666666666,
              "#ed7953"
             ],
             [
              0.7777777777777778,
              "#fb9f3a"
             ],
             [
              0.8888888888888888,
              "#fdca26"
             ],
             [
              1,
              "#f0f921"
             ]
            ],
            "type": "heatmap"
           }
          ],
          "heatmapgl": [
           {
            "colorbar": {
             "outlinewidth": 0,
             "ticks": ""
            },
            "colorscale": [
             [
              0,
              "#0d0887"
             ],
             [
              0.1111111111111111,
              "#46039f"
             ],
             [
              0.2222222222222222,
              "#7201a8"
             ],
             [
              0.3333333333333333,
              "#9c179e"
             ],
             [
              0.4444444444444444,
              "#bd3786"
             ],
             [
              0.5555555555555556,
              "#d8576b"
             ],
             [
              0.6666666666666666,
              "#ed7953"
             ],
             [
              0.7777777777777778,
              "#fb9f3a"
             ],
             [
              0.8888888888888888,
              "#fdca26"
             ],
             [
              1,
              "#f0f921"
             ]
            ],
            "type": "heatmapgl"
           }
          ],
          "histogram": [
           {
            "marker": {
             "pattern": {
              "fillmode": "overlay",
              "size": 10,
              "solidity": 0.2
             }
            },
            "type": "histogram"
           }
          ],
          "histogram2d": [
           {
            "colorbar": {
             "outlinewidth": 0,
             "ticks": ""
            },
            "colorscale": [
             [
              0,
              "#0d0887"
             ],
             [
              0.1111111111111111,
              "#46039f"
             ],
             [
              0.2222222222222222,
              "#7201a8"
             ],
             [
              0.3333333333333333,
              "#9c179e"
             ],
             [
              0.4444444444444444,
              "#bd3786"
             ],
             [
              0.5555555555555556,
              "#d8576b"
             ],
             [
              0.6666666666666666,
              "#ed7953"
             ],
             [
              0.7777777777777778,
              "#fb9f3a"
             ],
             [
              0.8888888888888888,
              "#fdca26"
             ],
             [
              1,
              "#f0f921"
             ]
            ],
            "type": "histogram2d"
           }
          ],
          "histogram2dcontour": [
           {
            "colorbar": {
             "outlinewidth": 0,
             "ticks": ""
            },
            "colorscale": [
             [
              0,
              "#0d0887"
             ],
             [
              0.1111111111111111,
              "#46039f"
             ],
             [
              0.2222222222222222,
              "#7201a8"
             ],
             [
              0.3333333333333333,
              "#9c179e"
             ],
             [
              0.4444444444444444,
              "#bd3786"
             ],
             [
              0.5555555555555556,
              "#d8576b"
             ],
             [
              0.6666666666666666,
              "#ed7953"
             ],
             [
              0.7777777777777778,
              "#fb9f3a"
             ],
             [
              0.8888888888888888,
              "#fdca26"
             ],
             [
              1,
              "#f0f921"
             ]
            ],
            "type": "histogram2dcontour"
           }
          ],
          "mesh3d": [
           {
            "colorbar": {
             "outlinewidth": 0,
             "ticks": ""
            },
            "type": "mesh3d"
           }
          ],
          "parcoords": [
           {
            "line": {
             "colorbar": {
              "outlinewidth": 0,
              "ticks": ""
             }
            },
            "type": "parcoords"
           }
          ],
          "pie": [
           {
            "automargin": true,
            "type": "pie"
           }
          ],
          "scatter": [
           {
            "fillpattern": {
             "fillmode": "overlay",
             "size": 10,
             "solidity": 0.2
            },
            "type": "scatter"
           }
          ],
          "scatter3d": [
           {
            "line": {
             "colorbar": {
              "outlinewidth": 0,
              "ticks": ""
             }
            },
            "marker": {
             "colorbar": {
              "outlinewidth": 0,
              "ticks": ""
             }
            },
            "type": "scatter3d"
           }
          ],
          "scattercarpet": [
           {
            "marker": {
             "colorbar": {
              "outlinewidth": 0,
              "ticks": ""
             }
            },
            "type": "scattercarpet"
           }
          ],
          "scattergeo": [
           {
            "marker": {
             "colorbar": {
              "outlinewidth": 0,
              "ticks": ""
             }
            },
            "type": "scattergeo"
           }
          ],
          "scattergl": [
           {
            "marker": {
             "colorbar": {
              "outlinewidth": 0,
              "ticks": ""
             }
            },
            "type": "scattergl"
           }
          ],
          "scattermapbox": [
           {
            "marker": {
             "colorbar": {
              "outlinewidth": 0,
              "ticks": ""
             }
            },
            "type": "scattermapbox"
           }
          ],
          "scatterpolar": [
           {
            "marker": {
             "colorbar": {
              "outlinewidth": 0,
              "ticks": ""
             }
            },
            "type": "scatterpolar"
           }
          ],
          "scatterpolargl": [
           {
            "marker": {
             "colorbar": {
              "outlinewidth": 0,
              "ticks": ""
             }
            },
            "type": "scatterpolargl"
           }
          ],
          "scatterternary": [
           {
            "marker": {
             "colorbar": {
              "outlinewidth": 0,
              "ticks": ""
             }
            },
            "type": "scatterternary"
           }
          ],
          "surface": [
           {
            "colorbar": {
             "outlinewidth": 0,
             "ticks": ""
            },
            "colorscale": [
             [
              0,
              "#0d0887"
             ],
             [
              0.1111111111111111,
              "#46039f"
             ],
             [
              0.2222222222222222,
              "#7201a8"
             ],
             [
              0.3333333333333333,
              "#9c179e"
             ],
             [
              0.4444444444444444,
              "#bd3786"
             ],
             [
              0.5555555555555556,
              "#d8576b"
             ],
             [
              0.6666666666666666,
              "#ed7953"
             ],
             [
              0.7777777777777778,
              "#fb9f3a"
             ],
             [
              0.8888888888888888,
              "#fdca26"
             ],
             [
              1,
              "#f0f921"
             ]
            ],
            "type": "surface"
           }
          ],
          "table": [
           {
            "cells": {
             "fill": {
              "color": "#EBF0F8"
             },
             "line": {
              "color": "white"
             }
            },
            "header": {
             "fill": {
              "color": "#C8D4E3"
             },
             "line": {
              "color": "white"
             }
            },
            "type": "table"
           }
          ]
         },
         "layout": {
          "annotationdefaults": {
           "arrowcolor": "#2a3f5f",
           "arrowhead": 0,
           "arrowwidth": 1
          },
          "autotypenumbers": "strict",
          "coloraxis": {
           "colorbar": {
            "outlinewidth": 0,
            "ticks": ""
           }
          },
          "colorscale": {
           "diverging": [
            [
             0,
             "#8e0152"
            ],
            [
             0.1,
             "#c51b7d"
            ],
            [
             0.2,
             "#de77ae"
            ],
            [
             0.3,
             "#f1b6da"
            ],
            [
             0.4,
             "#fde0ef"
            ],
            [
             0.5,
             "#f7f7f7"
            ],
            [
             0.6,
             "#e6f5d0"
            ],
            [
             0.7,
             "#b8e186"
            ],
            [
             0.8,
             "#7fbc41"
            ],
            [
             0.9,
             "#4d9221"
            ],
            [
             1,
             "#276419"
            ]
           ],
           "sequential": [
            [
             0,
             "#0d0887"
            ],
            [
             0.1111111111111111,
             "#46039f"
            ],
            [
             0.2222222222222222,
             "#7201a8"
            ],
            [
             0.3333333333333333,
             "#9c179e"
            ],
            [
             0.4444444444444444,
             "#bd3786"
            ],
            [
             0.5555555555555556,
             "#d8576b"
            ],
            [
             0.6666666666666666,
             "#ed7953"
            ],
            [
             0.7777777777777778,
             "#fb9f3a"
            ],
            [
             0.8888888888888888,
             "#fdca26"
            ],
            [
             1,
             "#f0f921"
            ]
           ],
           "sequentialminus": [
            [
             0,
             "#0d0887"
            ],
            [
             0.1111111111111111,
             "#46039f"
            ],
            [
             0.2222222222222222,
             "#7201a8"
            ],
            [
             0.3333333333333333,
             "#9c179e"
            ],
            [
             0.4444444444444444,
             "#bd3786"
            ],
            [
             0.5555555555555556,
             "#d8576b"
            ],
            [
             0.6666666666666666,
             "#ed7953"
            ],
            [
             0.7777777777777778,
             "#fb9f3a"
            ],
            [
             0.8888888888888888,
             "#fdca26"
            ],
            [
             1,
             "#f0f921"
            ]
           ]
          },
          "colorway": [
           "#636efa",
           "#EF553B",
           "#00cc96",
           "#ab63fa",
           "#FFA15A",
           "#19d3f3",
           "#FF6692",
           "#B6E880",
           "#FF97FF",
           "#FECB52"
          ],
          "font": {
           "color": "#2a3f5f"
          },
          "geo": {
           "bgcolor": "white",
           "lakecolor": "white",
           "landcolor": "#E5ECF6",
           "showlakes": true,
           "showland": true,
           "subunitcolor": "white"
          },
          "hoverlabel": {
           "align": "left"
          },
          "hovermode": "closest",
          "mapbox": {
           "style": "light"
          },
          "paper_bgcolor": "white",
          "plot_bgcolor": "#E5ECF6",
          "polar": {
           "angularaxis": {
            "gridcolor": "white",
            "linecolor": "white",
            "ticks": ""
           },
           "bgcolor": "#E5ECF6",
           "radialaxis": {
            "gridcolor": "white",
            "linecolor": "white",
            "ticks": ""
           }
          },
          "scene": {
           "xaxis": {
            "backgroundcolor": "#E5ECF6",
            "gridcolor": "white",
            "gridwidth": 2,
            "linecolor": "white",
            "showbackground": true,
            "ticks": "",
            "zerolinecolor": "white"
           },
           "yaxis": {
            "backgroundcolor": "#E5ECF6",
            "gridcolor": "white",
            "gridwidth": 2,
            "linecolor": "white",
            "showbackground": true,
            "ticks": "",
            "zerolinecolor": "white"
           },
           "zaxis": {
            "backgroundcolor": "#E5ECF6",
            "gridcolor": "white",
            "gridwidth": 2,
            "linecolor": "white",
            "showbackground": true,
            "ticks": "",
            "zerolinecolor": "white"
           }
          },
          "shapedefaults": {
           "line": {
            "color": "#2a3f5f"
           }
          },
          "ternary": {
           "aaxis": {
            "gridcolor": "white",
            "linecolor": "white",
            "ticks": ""
           },
           "baxis": {
            "gridcolor": "white",
            "linecolor": "white",
            "ticks": ""
           },
           "bgcolor": "#E5ECF6",
           "caxis": {
            "gridcolor": "white",
            "linecolor": "white",
            "ticks": ""
           }
          },
          "title": {
           "x": 0.05
          },
          "xaxis": {
           "automargin": true,
           "gridcolor": "white",
           "linecolor": "white",
           "ticks": "",
           "title": {
            "standoff": 15
           },
           "zerolinecolor": "white",
           "zerolinewidth": 2
          },
          "yaxis": {
           "automargin": true,
           "gridcolor": "white",
           "linecolor": "white",
           "ticks": "",
           "title": {
            "standoff": 15
           },
           "zerolinecolor": "white",
           "zerolinewidth": 2
          }
         }
        },
        "title": {
         "text": "Distribution des Notes de Qualité"
        },
        "xaxis": {
         "anchor": "y",
         "domain": [
          0,
          1
         ],
         "title": {
          "text": "quality"
         }
        },
        "yaxis": {
         "anchor": "x",
         "domain": [
          0,
          1
         ],
         "title": {
          "text": "count"
         }
        }
       }
      }
     },
     "metadata": {},
     "output_type": "display_data"
    }
   ],
   "source": [
    "fig = px.histogram(data, x='quality', \n",
    "                   title='Distribution des Notes de Qualité',\n",
    "                   color_discrete_sequence=['#722F37'],\n",
    "                   nbins=10)\n",
    "fig.update_layout(bargap=0.1)\n",
    "fig.show()"
   ]
  },
  {
   "cell_type": "markdown",
   "id": "96ca23b2",
   "metadata": {},
   "source": [
    "Un grand nombre des bouteilles de vin ont leurs notes comprises entre **5** et **6**."
   ]
  },
  {
   "cell_type": "markdown",
   "id": "c0caff67",
   "metadata": {},
   "source": [
    "### 3.2. Matrice de corrélation linéaire de Pearson"
   ]
  },
  {
   "cell_type": "code",
   "execution_count": 32,
   "id": "8cfaac96",
   "metadata": {},
   "outputs": [
    {
     "data": {
      "image/png": "[encoded data removed]",
      "text/plain": [
       "<Figure size 1200x800 with 2 Axes>"
      ]
     },
     "metadata": {},
     "output_type": "display_data"
    }
   ],
   "source": [
    "correlation_matrix = data.corr()\n",
    "\n",
    "plt.figure(figsize=(12, 8))\n",
    "sns.heatmap(\n",
    "    correlation_matrix, \n",
    "    annot=True,  # Pour l'affichage des valeurs \n",
    "    cmap='coolwarm',  # Palette de couleurs\n",
    ")\n",
    "\n",
    "plt.title(\"Matrice de corrélation de Pearson\")\n",
    "plt.show()\n"
   ]
  },
  {
   "cell_type": "markdown",
   "id": "516bc3b5",
   "metadata": {},
   "source": [
    "## 4. Modélisation"
   ]
  },
  {
   "cell_type": "markdown",
   "id": "7b5b2bcc",
   "metadata": {},
   "source": [
    "### 4.1. Préparation des données"
   ]
  },
  {
   "cell_type": "code",
   "execution_count": 33,
   "id": "6a359020",
   "metadata": {},
   "outputs": [
    {
     "name": "stdout",
     "output_type": "stream",
     "text": [
      "Train set: (1276, 11), Test set: (320, 11)\n"
     ]
    }
   ],
   "source": [
    "# Séparation Features/Target\n",
    "X = data.drop('quality', axis=1)\n",
    "y = data['quality']\n",
    "\n",
    "# Normalisation des données\n",
    "scaler = StandardScaler()\n",
    "X_scaled = scaler.fit_transform(X)\n",
    "X_scaled = pd.DataFrame(X_scaled, columns=X.columns)\n",
    "\n",
    "# Split Train/Test\n",
    "X_train, X_test, y_train, y_test = train_test_split(\n",
    "    X_scaled, y, test_size=0.2, random_state=42)\n",
    "\n",
    "print(f\"Train set: {X_train.shape}, Test set: {X_test.shape}\")"
   ]
  },
  {
   "cell_type": "markdown",
   "id": "6ecafe55",
   "metadata": {},
   "source": [
    "### 4.2. Régression linéaire"
   ]
  },
  {
   "cell_type": "code",
   "execution_count": 34,
   "id": "a5fad084",
   "metadata": {},
   "outputs": [
    {
     "data": {
      "text/html": [
       "<style type=\"text/css\">\n",
       "#T_b4aba_row0_col1 {\n",
       "  width: 10em;\n",
       "  background: linear-gradient(90deg, transparent 36.5%, green 36.5%, green 100.0%, transparent 100.0%);\n",
       "}\n",
       "#T_b4aba_row1_col1 {\n",
       "  width: 10em;\n",
       "  background: linear-gradient(90deg, transparent 36.5%, green 36.5%, green 65.4%, transparent 65.4%);\n",
       "}\n",
       "#T_b4aba_row2_col1 {\n",
       "  width: 10em;\n",
       "  background: linear-gradient(90deg, transparent 36.5%, green 36.5%, green 49.1%, transparent 49.1%);\n",
       "}\n",
       "#T_b4aba_row3_col1 {\n",
       "  width: 10em;\n",
       "  background: linear-gradient(90deg, transparent 36.5%, green 36.5%, green 43.8%, transparent 43.8%);\n",
       "}\n",
       "#T_b4aba_row4_col1 {\n",
       "  width: 10em;\n",
       "  background: linear-gradient(90deg, transparent 36.5%, green 36.5%, green 42.2%, transparent 42.2%);\n",
       "}\n",
       "#T_b4aba_row5_col1 {\n",
       "  width: 10em;\n",
       "  background: linear-gradient(90deg, transparent 28.2%, red 28.2%, red 36.5%, transparent 36.5%);\n",
       "}\n",
       "#T_b4aba_row6_col1 {\n",
       "  width: 10em;\n",
       "  background: linear-gradient(90deg, transparent 24.1%, red 24.1%, red 36.5%, transparent 36.5%);\n",
       "}\n",
       "#T_b4aba_row7_col1 {\n",
       "  width: 10em;\n",
       "  background: linear-gradient(90deg, transparent 23.4%, red 23.4%, red 36.5%, transparent 36.5%);\n",
       "}\n",
       "#T_b4aba_row8_col1 {\n",
       "  width: 10em;\n",
       "  background: linear-gradient(90deg, transparent 22.0%, red 22.0%, red 36.5%, transparent 36.5%);\n",
       "}\n",
       "#T_b4aba_row9_col1 {\n",
       "  width: 10em;\n",
       "  background: linear-gradient(90deg, transparent 18.6%, red 18.6%, red 36.5%, transparent 36.5%);\n",
       "}\n",
       "#T_b4aba_row10_col1 {\n",
       "  width: 10em;\n",
       "  background: linear-gradient(90deg, red 36.5%, transparent 36.5%);\n",
       "}\n",
       "</style>\n",
       "<table id=\"T_b4aba\">\n",
       "  <thead>\n",
       "    <tr>\n",
       "      <th class=\"blank level0\" >&nbsp;</th>\n",
       "      <th id=\"T_b4aba_level0_col0\" class=\"col_heading level0 col0\" >Feature</th>\n",
       "      <th id=\"T_b4aba_level0_col1\" class=\"col_heading level0 col1\" >Coefficient</th>\n",
       "    </tr>\n",
       "  </thead>\n",
       "  <tbody>\n",
       "    <tr>\n",
       "      <th id=\"T_b4aba_level0_row0\" class=\"row_heading level0 row0\" >10</th>\n",
       "      <td id=\"T_b4aba_row0_col0\" class=\"data row0 col0\" >alcohol</td>\n",
       "      <td id=\"T_b4aba_row0_col1\" class=\"data row0 col1\" >0.313403</td>\n",
       "    </tr>\n",
       "    <tr>\n",
       "      <th id=\"T_b4aba_level0_row1\" class=\"row_heading level0 row1\" >9</th>\n",
       "      <td id=\"T_b4aba_row1_col0\" class=\"data row1 col0\" >sulphates</td>\n",
       "      <td id=\"T_b4aba_row1_col1\" class=\"data row1 col1\" >0.142638</td>\n",
       "    </tr>\n",
       "    <tr>\n",
       "      <th id=\"T_b4aba_level0_row2\" class=\"row_heading level0 row2\" >0</th>\n",
       "      <td id=\"T_b4aba_row2_col0\" class=\"data row2 col0\" >fixed acidity</td>\n",
       "      <td id=\"T_b4aba_row2_col1\" class=\"data row2 col1\" >0.062289</td>\n",
       "    </tr>\n",
       "    <tr>\n",
       "      <th id=\"T_b4aba_level0_row3\" class=\"row_heading level0 row3\" >3</th>\n",
       "      <td id=\"T_b4aba_row3_col0\" class=\"data row3 col0\" >residual sugar</td>\n",
       "      <td id=\"T_b4aba_row3_col1\" class=\"data row3 col1\" >0.036280</td>\n",
       "    </tr>\n",
       "    <tr>\n",
       "      <th id=\"T_b4aba_level0_row4\" class=\"row_heading level0 row4\" >5</th>\n",
       "      <td id=\"T_b4aba_row4_col0\" class=\"data row4 col0\" >free sulfur dioxide</td>\n",
       "      <td id=\"T_b4aba_row4_col1\" class=\"data row4 col1\" >0.028286</td>\n",
       "    </tr>\n",
       "    <tr>\n",
       "      <th id=\"T_b4aba_level0_row5\" class=\"row_heading level0 row5\" >2</th>\n",
       "      <td id=\"T_b4aba_row5_col0\" class=\"data row5 col0\" >citric acid</td>\n",
       "      <td id=\"T_b4aba_row5_col1\" class=\"data row5 col1\" >-0.040784</td>\n",
       "    </tr>\n",
       "    <tr>\n",
       "      <th id=\"T_b4aba_level0_row6\" class=\"row_heading level0 row6\" >4</th>\n",
       "      <td id=\"T_b4aba_row6_col0\" class=\"data row6 col0\" >chlorides</td>\n",
       "      <td id=\"T_b4aba_row6_col1\" class=\"data row6 col1\" >-0.060994</td>\n",
       "    </tr>\n",
       "    <tr>\n",
       "      <th id=\"T_b4aba_level0_row7\" class=\"row_heading level0 row7\" >7</th>\n",
       "      <td id=\"T_b4aba_row7_col0\" class=\"data row7 col0\" >density</td>\n",
       "      <td id=\"T_b4aba_row7_col1\" class=\"data row7 col1\" >-0.064328</td>\n",
       "    </tr>\n",
       "    <tr>\n",
       "      <th id=\"T_b4aba_level0_row8\" class=\"row_heading level0 row8\" >8</th>\n",
       "      <td id=\"T_b4aba_row8_col0\" class=\"data row8 col0\" >pH</td>\n",
       "      <td id=\"T_b4aba_row8_col1\" class=\"data row8 col1\" >-0.071660</td>\n",
       "    </tr>\n",
       "    <tr>\n",
       "      <th id=\"T_b4aba_level0_row9\" class=\"row_heading level0 row9\" >6</th>\n",
       "      <td id=\"T_b4aba_row9_col0\" class=\"data row9 col0\" >total sulfur dioxide</td>\n",
       "      <td id=\"T_b4aba_row9_col1\" class=\"data row9 col1\" >-0.088204</td>\n",
       "    </tr>\n",
       "    <tr>\n",
       "      <th id=\"T_b4aba_level0_row10\" class=\"row_heading level0 row10\" >1</th>\n",
       "      <td id=\"T_b4aba_row10_col0\" class=\"data row10 col0\" >volatile acidity</td>\n",
       "      <td id=\"T_b4aba_row10_col1\" class=\"data row10 col1\" >-0.180015</td>\n",
       "    </tr>\n",
       "  </tbody>\n",
       "</table>\n"
      ],
      "text/plain": [
       "<pandas.io.formats.style.Styler at 0x23209eb4dd0>"
      ]
     },
     "metadata": {},
     "output_type": "display_data"
    }
   ],
   "source": [
    "# Entraînement du Modèle\n",
    "model = LinearRegression()\n",
    "model.fit(X_train, y_train)\n",
    "\n",
    "# Coefficients du Modèle\n",
    "coeff_df = pd.DataFrame({\n",
    "    'Feature': X.columns,\n",
    "    'Coefficient': model.coef_\n",
    "}).sort_values('Coefficient', ascending=False)\n",
    "\n",
    "display(coeff_df.style.bar(color=['red', 'green']))\n"
   ]
  },
  {
   "cell_type": "markdown",
   "id": "41db8081",
   "metadata": {},
   "source": [
    "### 4.3. Evaluation du modèle"
   ]
  },
  {
   "cell_type": "code",
   "execution_count": 35,
   "id": "8821724f",
   "metadata": {},
   "outputs": [
    {
     "name": "stdout",
     "output_type": "stream",
     "text": [
      "R² Score: 0.338\n",
      "RMSE: 0.663\n"
     ]
    }
   ],
   "source": [
    "# Évaluation du Modèle\n",
    "y_pred = model.predict(X_test)\n",
    "\n",
    "print(f\"R² Score: {r2_score(y_test, y_pred):.3f}\")\n",
    "print(f\"RMSE: {np.sqrt(mean_squared_error(y_test, y_pred)):.3f}\")"
   ]
  },
  {
   "cell_type": "markdown",
   "id": "d3c2a122",
   "metadata": {},
   "source": [
    "## 5. Analyse des Résidus"
   ]
  },
  {
   "cell_type": "code",
   "execution_count": 36,
   "id": "09a73c84",
   "metadata": {},
   "outputs": [
    {
     "data": {
      "image/png": "[encoded data removed]",
      "text/plain": [
       "<Figure size 1500x600 with 2 Axes>"
      ]
     },
     "metadata": {},
     "output_type": "display_data"
    },
    {
     "data": {
      "image/png": "[encoded data removed]",
      "text/plain": [
       "<Figure size 1000x600 with 1 Axes>"
      ]
     },
     "metadata": {},
     "output_type": "display_data"
    }
   ],
   "source": [
    "# Analyse des Résidus\n",
    "residuals = y_test - y_pred\n",
    "\n",
    "fig, (ax1, ax2) = plt.subplots(1, 2, figsize=(15, 6))\n",
    "\n",
    "# Distribution des résidus\n",
    "sns.histplot(residuals, kde=True, ax=ax1, color='#722F37')\n",
    "ax1.set_title('Distribution des Résidus')\n",
    "ax1.axvline(0, color='red', linestyle='--')\n",
    "\n",
    "# Résidus vs Prédictions\n",
    "sns.scatterplot(x=y_pred, y=residuals, alpha=0.5, ax=ax2)\n",
    "ax2.axhline(0, color='red', linestyle='--')\n",
    "ax2.set_title('Résidus vs Prédictions')\n",
    "ax2.set_xlabel('Prédictions')\n",
    "ax2.set_ylabel('Résidus')\n",
    "\n",
    "plt.tight_layout()\n",
    "plt.show()\n",
    "\n",
    "\n",
    "# Modèle \n",
    "X_sm = sm.add_constant(X_scaled)\n",
    "model_sm = sm.OLS(y, X_sm).fit()\n",
    "\n",
    "\n",
    "# Intervalle de Confiance des Coefficients\n",
    "conf_int = model_sm.conf_int()\n",
    "conf_int.columns = ['Lower', 'Upper']\n",
    "conf_int['Coefficient'] = model_sm.params\n",
    "conf_int = conf_int[['Coefficient', 'Lower', 'Upper']]\n",
    "conf_int.drop('const', inplace=True)\n",
    "\n",
    "plt.figure(figsize=(10, 6))\n",
    "for i, var in enumerate(conf_int.index):\n",
    "    plt.plot([conf_int.loc[var, 'Lower'], conf_int.loc[var, 'Upper']], [i, i], 'o-', color='#722F37')\n",
    "    plt.plot(conf_int.loc[var, 'Coefficient'], i, 'o', color='red')\n",
    "plt.yticks(range(len(conf_int)), conf_int.index)\n",
    "plt.title('Intervalles de Confiance des Coefficients')\n",
    "plt.axvline(0, color='grey', linestyle='--')\n",
    "plt.tight_layout()\n",
    "plt.show()\n"
   ]
  },
  {
   "cell_type": "markdown",
   "id": "cfb13ed4",
   "metadata": {},
   "source": [
    "## 6. Prédiction"
   ]
  }
 ],
 "metadata": {
  "kernelspec": {
   "display_name": "base",
   "language": "python",
   "name": "python3"
  },
  "language_info": {
   "codemirror_mode": {
    "name": "ipython",
    "version": 3
   },
   "file_extension": ".py",
   "mimetype": "text/x-python",
   "name": "python",
   "nbconvert_exporter": "python",
   "pygments_lexer": "ipython3",
   "version": "3.12.4"
  }
 },
 "nbformat": 4,
 "nbformat_minor": 5
}
