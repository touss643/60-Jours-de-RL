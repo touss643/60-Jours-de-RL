{
 "cells": [
  {
   "cell_type": "markdown",
   "id": "107130dc",
   "metadata": {},
   "source": [
    "# **Jour 44 : USArrests**"
   ]
  }
 ],
 "metadata": {
  "language_info": {
   "name": "python"
  }
 },
 "nbformat": 4,
 "nbformat_minor": 5
}
