{
 "cells": [
  {
   "cell_type": "markdown",
   "id": "b0537770-9385-4a46-8d58-3507346551a5",
   "metadata": {},
   "source": [
    "# **Jour 42 : Startups dans le Marketing**"
   ]
  },
  {
   "cell_type": "markdown",
   "id": "5f2a1a4b-5824-4e53-b18f-1a866c970b6e",
   "metadata": {},
   "source": [
    "La base de données utilisée dans ce cas pratique renseigne sur quelques variables de l'activité économique de 50 Startups béninoises. Il s'agit des dépenses en Recherche et développement, Administration, Marketing, la ville de résidence et le profit généré."
   ]
  },
  {
   "cell_type": "markdown",
   "id": "a29138d0-0655-4396-bf9d-24b25633ee60",
   "metadata": {},
   "source": [
    "## 0. Chargement des librairies"
   ]
  },
  {
   "cell_type": "code",
   "execution_count": 1,
   "id": "b9b61903-fedd-45fa-9836-896fd0f11083",
   "metadata": {},
   "outputs": [],
   "source": [
    "import numpy as np\n",
    "import pandas as pd\n",
    "import matplotlib.pyplot as plt\n",
    "\n",
    "from sklearn.preprocessing import LabelEncoder, OneHotEncoder\n",
    "from sklearn.compose import ColumnTransformer\n",
    "\n",
    "from sklearn.linear_model import LinearRegression"
   ]
  },
  {
   "cell_type": "markdown",
   "id": "a3e1dfc6-3046-4b02-b57f-f4db957e986b",
   "metadata": {},
   "source": [
    "## 1. Importation de la base de données"
   ]
  },
  {
   "cell_type": "code",
   "execution_count": 2,
   "id": "3357efe5-cab0-4104-95ab-b079b05ed15b",
   "metadata": {},
   "outputs": [
    {
     "data": {
      "text/html": [
       "<div>\n",
       "<style scoped>\n",
       "    .dataframe tbody tr th:only-of-type {\n",
       "        vertical-align: middle;\n",
       "    }\n",
       "\n",
       "    .dataframe tbody tr th {\n",
       "        vertical-align: top;\n",
       "    }\n",
       "\n",
       "    .dataframe thead th {\n",
       "        text-align: right;\n",
       "    }\n",
       "</style>\n",
       "<table border=\"1\" class=\"dataframe\">\n",
       "  <thead>\n",
       "    <tr style=\"text-align: right;\">\n",
       "      <th></th>\n",
       "      <th>R&amp;D Spend</th>\n",
       "      <th>Administration</th>\n",
       "      <th>Marketing Spend</th>\n",
       "      <th>State</th>\n",
       "      <th>Profit</th>\n",
       "    </tr>\n",
       "  </thead>\n",
       "  <tbody>\n",
       "    <tr>\n",
       "      <th>0</th>\n",
       "      <td>165349.20</td>\n",
       "      <td>136897.80</td>\n",
       "      <td>471784.10</td>\n",
       "      <td>Cotonou</td>\n",
       "      <td>192261.83</td>\n",
       "    </tr>\n",
       "    <tr>\n",
       "      <th>1</th>\n",
       "      <td>162597.70</td>\n",
       "      <td>151377.59</td>\n",
       "      <td>443898.53</td>\n",
       "      <td>Ouidah</td>\n",
       "      <td>191792.06</td>\n",
       "    </tr>\n",
       "    <tr>\n",
       "      <th>2</th>\n",
       "      <td>153441.51</td>\n",
       "      <td>101145.55</td>\n",
       "      <td>407934.54</td>\n",
       "      <td>Parakou</td>\n",
       "      <td>191050.39</td>\n",
       "    </tr>\n",
       "    <tr>\n",
       "      <th>3</th>\n",
       "      <td>144372.41</td>\n",
       "      <td>118671.85</td>\n",
       "      <td>383199.62</td>\n",
       "      <td>Cotonou</td>\n",
       "      <td>182901.99</td>\n",
       "    </tr>\n",
       "    <tr>\n",
       "      <th>4</th>\n",
       "      <td>142107.34</td>\n",
       "      <td>91391.77</td>\n",
       "      <td>366168.42</td>\n",
       "      <td>Parakou</td>\n",
       "      <td>166187.94</td>\n",
       "    </tr>\n",
       "  </tbody>\n",
       "</table>\n",
       "</div>"
      ],
      "text/plain": [
       "   R&D Spend  Administration  Marketing Spend    State     Profit\n",
       "0  165349.20       136897.80        471784.10  Cotonou  192261.83\n",
       "1  162597.70       151377.59        443898.53   Ouidah  191792.06\n",
       "2  153441.51       101145.55        407934.54  Parakou  191050.39\n",
       "3  144372.41       118671.85        383199.62  Cotonou  182901.99\n",
       "4  142107.34        91391.77        366168.42  Parakou  166187.94"
      ]
     },
     "execution_count": 2,
     "metadata": {},
     "output_type": "execute_result"
    }
   ],
   "source": [
    "df = pd.read_csv(\"../data/50_Startups_Multiple.csv\")\n",
    "df.head()"
   ]
  },
  {
   "cell_type": "code",
   "execution_count": 4,
   "id": "dfa30e5b-f5fa-41f9-a5f1-84c1fb3b957c",
   "metadata": {},
   "outputs": [],
   "source": [
    "X = df.iloc[:,:-1].values\n",
    "y = df.iloc[:,-1].values"
   ]
  },
  {
   "cell_type": "markdown",
   "id": "2e699f10-784e-4a19-bef7-38896c129ae5",
   "metadata": {},
   "source": [
    "## 2. Traitement des variables catégorielles"
   ]
  },
  {
   "cell_type": "code",
   "execution_count": 5,
   "id": "9a2c113a-ca18-45ed-98f4-b97816c139bf",
   "metadata": {},
   "outputs": [],
   "source": [
    "labelEncoder = LabelEncoder()\n",
    "\n",
    "X[:,3] = labelEncoder.fit_transform(X[:,3])\n",
    "\n",
    "ct = ColumnTransformer([(\"auto\", OneHotEncoder(), [-1])], remainder = 'passthrough')\n",
    "X = ct.fit_transform(X)"
   ]
  },
  {
   "cell_type": "code",
   "execution_count": 14,
   "id": "6fabdf8f-25d5-4494-9368-c3942a816f29",
   "metadata": {},
   "outputs": [
    {
     "data": {
      "text/plain": [
       "array([[1.0, 0.0, 0.0, 165349.2, 136897.8, 471784.1],\n",
       "       [0.0, 1.0, 0.0, 162597.7, 151377.59, 443898.53]], dtype=object)"
      ]
     },
     "execution_count": 14,
     "metadata": {},
     "output_type": "execute_result"
    }
   ],
   "source": [
    "X[0:2, :]"
   ]
  },
  {
   "cell_type": "markdown",
   "id": "10f71dfe-8f24-47fc-8eb5-424cb2f4f4d5",
   "metadata": {},
   "source": [
    "## 3. Division du dataset"
   ]
  },
  {
   "cell_type": "code",
   "execution_count": 6,
   "id": "3dfa7f9e-fc8d-4517-adf8-473e0d94c923",
   "metadata": {},
   "outputs": [],
   "source": [
    "from sklearn.model_selection import train_test_split\n",
    "X_train, X_test, y_train, y_test = train_test_split(X, y, test_size=0.2, random_state=1234)"
   ]
  },
  {
   "cell_type": "markdown",
   "id": "1baf641c-7183-4eca-b615-f4d8fbc0a4cb",
   "metadata": {},
   "source": [
    "## 4. Construction du modèle"
   ]
  },
  {
   "cell_type": "code",
   "execution_count": 10,
   "id": "920b6182-eef9-4602-ac3f-2a068be84cef",
   "metadata": {},
   "outputs": [],
   "source": [
    "regressor = LinearRegression().fit(X_train, y_train)"
   ]
  },
  {
   "cell_type": "markdown",
   "id": "4b39dc59-5013-4009-8f8d-0141b3617759",
   "metadata": {},
   "source": [
    "## 5. Prédiction"
   ]
  },
  {
   "cell_type": "markdown",
   "id": "f5a8859b-ca6b-4581-82db-b2873880894c",
   "metadata": {},
   "source": [
    "Prédire le profit avec les critères suivants :\n",
    "+ RD : 175000;\n",
    "+ Administration : 90000;\n",
    "+ Marketing : 45000;\n",
    "+ State : Ouidah."
   ]
  },
  {
   "cell_type": "code",
   "execution_count": 15,
   "id": "64b50cd0-83e5-4ed7-a01c-703df5f42e08",
   "metadata": {},
   "outputs": [
    {
     "name": "stdout",
     "output_type": "stream",
     "text": [
      "[196392.67506606]\n"
     ]
    }
   ],
   "source": [
    "print(regressor.predict([[0, 1, 0, 175000, 90000, 45000]]))"
   ]
  },
  {
   "cell_type": "code",
   "execution_count": null,
   "id": "ed609564-d178-4e32-8790-a262bcd9cf1e",
   "metadata": {},
   "outputs": [],
   "source": []
  }
 ],
 "metadata": {
  "kernelspec": {
   "display_name": "Python 3 (ipykernel)",
   "language": "python",
   "name": "python3"
  },
  "language_info": {
   "codemirror_mode": {
    "name": "ipython",
    "version": 3
   },
   "file_extension": ".py",
   "mimetype": "text/x-python",
   "name": "python",
   "nbconvert_exporter": "python",
   "pygments_lexer": "ipython3",
   "version": "3.12.4"
  }
 },
 "nbformat": 4,
 "nbformat_minor": 5
}
