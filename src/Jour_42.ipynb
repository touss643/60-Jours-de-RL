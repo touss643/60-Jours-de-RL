{
 "cells": [
  {
   "cell_type": "markdown",
   "id": "b0537770-9385-4a46-8d58-3507346551a5",
   "metadata": {},
   "source": [
    "# **Jour 42 : Startups dans le Marketing**"
   ]
  },
  {
   "cell_type": "markdown",
   "id": "5f2a1a4b-5824-4e53-b18f-1a866c970b6e",
   "metadata": {},
   "source": [
    "La base de données utilisée dans ce cas pratique renseigne sur quelques variables de l'activité économique de 50 Startups béninoises. Il s'agit des dépenses en Recherche et développement, Administration, Marketing, la ville de résidence et le profit généré."
   ]
  },
  {
   "cell_type": "markdown",
   "id": "a29138d0-0655-4396-bf9d-24b25633ee60",
   "metadata": {},
   "source": [
    "## 0. Chargement des librairies"
   ]
  },
  {
   "cell_type": "code",
   "execution_count": 6,
   "id": "b9b61903-fedd-45fa-9836-896fd0f11083",
   "metadata": {},
   "outputs": [],
   "source": [
    "import numpy as np\n",
    "import pandas as pd\n",
    "import matplotlib.pyplot as plt\n",
    "\n",
    "from sklearn.preprocessing import LabelEncoder, OneHotEncoder\n",
    "from sklearn.compose import ColumnTransformer\n",
    "\n",
    "from sklearn.linear_model import LinearRegression"
   ]
  },
  {
   "cell_type": "markdown",
   "id": "a3e1dfc6-3046-4b02-b57f-f4db957e986b",
   "metadata": {},
   "source": [
    "## 1. Importation de la base de données et vérification des valeurs manquantes"
   ]
  },
  {
   "cell_type": "markdown",
   "id": "170475e6",
   "metadata": {},
   "source": [
    "### 1.1 Importation de la base de données"
   ]
  },
  {
   "cell_type": "code",
   "execution_count": 7,
   "id": "3357efe5-cab0-4104-95ab-b079b05ed15b",
   "metadata": {},
   "outputs": [
    {
     "data": {
      "text/html": [
       "<div>\n",
       "<style scoped>\n",
       "    .dataframe tbody tr th:only-of-type {\n",
       "        vertical-align: middle;\n",
       "    }\n",
       "\n",
       "    .dataframe tbody tr th {\n",
       "        vertical-align: top;\n",
       "    }\n",
       "\n",
       "    .dataframe thead th {\n",
       "        text-align: right;\n",
       "    }\n",
       "</style>\n",
       "<table border=\"1\" class=\"dataframe\">\n",
       "  <thead>\n",
       "    <tr style=\"text-align: right;\">\n",
       "      <th></th>\n",
       "      <th>R&amp;D Spend</th>\n",
       "      <th>Administration</th>\n",
       "      <th>Marketing Spend</th>\n",
       "      <th>State</th>\n",
       "      <th>Profit</th>\n",
       "    </tr>\n",
       "  </thead>\n",
       "  <tbody>\n",
       "    <tr>\n",
       "      <th>0</th>\n",
       "      <td>165349.20</td>\n",
       "      <td>136897.80</td>\n",
       "      <td>471784.10</td>\n",
       "      <td>Cotonou</td>\n",
       "      <td>192261.83</td>\n",
       "    </tr>\n",
       "    <tr>\n",
       "      <th>1</th>\n",
       "      <td>162597.70</td>\n",
       "      <td>151377.59</td>\n",
       "      <td>443898.53</td>\n",
       "      <td>Ouidah</td>\n",
       "      <td>191792.06</td>\n",
       "    </tr>\n",
       "    <tr>\n",
       "      <th>2</th>\n",
       "      <td>153441.51</td>\n",
       "      <td>101145.55</td>\n",
       "      <td>407934.54</td>\n",
       "      <td>Parakou</td>\n",
       "      <td>191050.39</td>\n",
       "    </tr>\n",
       "    <tr>\n",
       "      <th>3</th>\n",
       "      <td>144372.41</td>\n",
       "      <td>118671.85</td>\n",
       "      <td>383199.62</td>\n",
       "      <td>Cotonou</td>\n",
       "      <td>182901.99</td>\n",
       "    </tr>\n",
       "    <tr>\n",
       "      <th>4</th>\n",
       "      <td>142107.34</td>\n",
       "      <td>91391.77</td>\n",
       "      <td>366168.42</td>\n",
       "      <td>Parakou</td>\n",
       "      <td>166187.94</td>\n",
       "    </tr>\n",
       "  </tbody>\n",
       "</table>\n",
       "</div>"
      ],
      "text/plain": [
       "   R&D Spend  Administration  Marketing Spend    State     Profit\n",
       "0  165349.20       136897.80        471784.10  Cotonou  192261.83\n",
       "1  162597.70       151377.59        443898.53   Ouidah  191792.06\n",
       "2  153441.51       101145.55        407934.54  Parakou  191050.39\n",
       "3  144372.41       118671.85        383199.62  Cotonou  182901.99\n",
       "4  142107.34        91391.77        366168.42  Parakou  166187.94"
      ]
     },
     "execution_count": 7,
     "metadata": {},
     "output_type": "execute_result"
    }
   ],
   "source": [
    "import pandas as pd\n",
    "df = pd.read_csv(\"../data/50_Startups_Multiple.csv\")\n",
    "df.head()"
   ]
  },
  {
   "cell_type": "markdown",
   "id": "a1c694ba",
   "metadata": {},
   "source": [
    "### 1.2 Vérification des valeurs manquantes "
   ]
  },
  {
   "cell_type": "code",
   "execution_count": 8,
   "id": "9ab1a0e0",
   "metadata": {},
   "outputs": [
    {
     "name": "stdout",
     "output_type": "stream",
     "text": [
      "R&D Spend          0\n",
      "Administration     0\n",
      "Marketing Spend    0\n",
      "State              0\n",
      "Profit             0\n",
      "dtype: int64\n"
     ]
    }
   ],
   "source": [
    "\n",
    "print(df.isnull().sum())  \n"
   ]
  },
  {
   "cell_type": "markdown",
   "id": "827531c6",
   "metadata": {},
   "source": [
    "La base de donnée ne contient aucune valeur manquante."
   ]
  },
  {
   "cell_type": "code",
   "execution_count": 9,
   "id": "dfa30e5b-f5fa-41f9-a5f1-84c1fb3b957c",
   "metadata": {},
   "outputs": [],
   "source": [
    "X = df.iloc[:,:-1].values\n",
    "y = df.iloc[:,-1].values"
   ]
  },
  {
   "cell_type": "markdown",
   "id": "2e699f10-784e-4a19-bef7-38896c129ae5",
   "metadata": {},
   "source": [
    "## 2. Traitement des variables catégorielles"
   ]
  },
  {
   "cell_type": "markdown",
   "id": "fbfed675",
   "metadata": {},
   "source": [
    "**2.1** Visualisation de la variable State"
   ]
  },
  {
   "cell_type": "code",
   "execution_count": 10,
   "id": "d3fa4578",
   "metadata": {},
   "outputs": [
    {
     "data": {
      "image/png": "[encoded data removed]",
      "text/plain": [
       "<Figure size 800x600 with 1 Axes>"
      ]
     },
     "metadata": {},
     "output_type": "display_data"
    }
   ],
   "source": [
    "# Boxplot de Profit par State\n",
    "import matplotlib.pyplot as plt\n",
    "import seaborn as sns\n",
    "plt.figure(figsize=(8, 6))\n",
    "sns.boxplot(x=df['State'], y=df['Profit'])\n",
    "plt.title('Profit par State')\n",
    "plt.xlabel('State')\n",
    "plt.ylabel('Profit')\n",
    "plt.show()"
   ]
  },
  {
   "cell_type": "markdown",
   "id": "92de5d83",
   "metadata": {},
   "source": [
    "**2.2** Encodage de la variable"
   ]
  },
  {
   "cell_type": "code",
   "execution_count": 11,
   "id": "9a2c113a-ca18-45ed-98f4-b97816c139bf",
   "metadata": {},
   "outputs": [],
   "source": [
    "from sklearn.preprocessing import LabelEncoder, OneHotEncoder\n",
    "labelEncoder = LabelEncoder()\n",
    "\n",
    "X[:,3] = labelEncoder.fit_transform(X[:,3])\n",
    "\n",
    "ct = ColumnTransformer([(\"auto\", OneHotEncoder(), [-1])], remainder = 'passthrough')\n",
    "X = ct.fit_transform(X)"
   ]
  },
  {
   "cell_type": "code",
   "execution_count": 12,
   "id": "6fabdf8f-25d5-4494-9368-c3942a816f29",
   "metadata": {},
   "outputs": [
    {
     "data": {
      "text/plain": [
       "array([[1.0, 0.0, 0.0, 165349.2, 136897.8, 471784.1],\n",
       "       [0.0, 1.0, 0.0, 162597.7, 151377.59, 443898.53]], dtype=object)"
      ]
     },
     "execution_count": 12,
     "metadata": {},
     "output_type": "execute_result"
    }
   ],
   "source": [
    "X[0:2, :]"
   ]
  },
  {
   "cell_type": "markdown",
   "id": "10f71dfe-8f24-47fc-8eb5-424cb2f4f4d5",
   "metadata": {},
   "source": [
    "## 3. Division du dataset"
   ]
  },
  {
   "cell_type": "code",
   "execution_count": 13,
   "id": "3dfa7f9e-fc8d-4517-adf8-473e0d94c923",
   "metadata": {},
   "outputs": [],
   "source": [
    "from sklearn.model_selection import train_test_split\n",
    "X_train, X_test, y_train, y_test = train_test_split(X, y, test_size=0.2, random_state=1234)"
   ]
  },
  {
   "cell_type": "markdown",
   "id": "1baf641c-7183-4eca-b615-f4d8fbc0a4cb",
   "metadata": {},
   "source": [
    "## 4. Construction du modèle"
   ]
  },
  {
   "cell_type": "code",
   "execution_count": 14,
   "id": "920b6182-eef9-4602-ac3f-2a068be84cef",
   "metadata": {},
   "outputs": [
    {
     "name": "stdout",
     "output_type": "stream",
     "text": [
      "Coefficients: [-1.64602649e+03  2.17532903e+03 -5.29302538e+02  8.26989976e-01\n",
      " -5.47084490e-02  2.05751030e-02]\n",
      "Intercept: 53491.98107666568\n"
     ]
    }
   ],
   "source": [
    "from sklearn.linear_model import LinearRegression\n",
    "import statsmodels.api as sm\n",
    "regressor = LinearRegression().fit(X_train, y_train)\n",
    "print(\"Coefficients:\", regressor.coef_)\n",
    "print(\"Intercept:\", regressor.intercept_)"
   ]
  },
  {
   "cell_type": "markdown",
   "id": "38c12556",
   "metadata": {},
   "source": [
    "Les coefficients représentent l'impact de chaque variable indépendante  sur la variable dépendante (ici le profit). \n",
    "L'intercept représente la valeur prédite du profit lorsque toutes les variables indépendantes sont égales à zéro. Dans notre cas, si toutes les dépenses (R&D, Administration, Marketing) sont nulles et que la ville n'est pas spécifiée, le profit prédit serait d'environ 53 491,98."
   ]
  },
  {
   "cell_type": "code",
   "execution_count": 17,
   "id": "aea58085",
   "metadata": {},
   "outputs": [],
   "source": [
    "# La copie de la base\n",
    "df2=df.copy()"
   ]
  },
  {
   "cell_type": "code",
   "execution_count": 16,
   "id": "2be72753",
   "metadata": {},
   "outputs": [
    {
     "name": "stdout",
     "output_type": "stream",
     "text": [
      "Coefficients: [-1.03623059e+04  0.00000000e+00  0.00000000e+00  1.09760949e+04\n",
      "  0.00000000e+00 -2.82546819e+03  7.75295882e+03  5.49224683e+03\n",
      "  0.00000000e+00  1.38557157e+03  0.00000000e+00 -8.92892826e+03\n",
      "  5.08741895e+03 -1.35892124e+04 -8.86432133e+02  5.94630456e+03\n",
      " -1.07910245e+03 -2.77935553e+03  1.67959686e+04  0.00000000e+00\n",
      "  0.00000000e+00  1.14830979e+04  8.74398320e+03  7.09070326e+03\n",
      "  4.38313480e+02 -3.41927439e+03  4.82933058e+03  0.00000000e+00\n",
      " -1.63833726e+04 -1.79247821e+04 -4.07406110e+02 -1.32559723e+04\n",
      " -7.94895239e+03 -7.59681818e+03 -3.99667649e+03 -1.34846765e+04\n",
      " -2.60596168e+03  3.29904983e+02 -1.05756652e+04  0.00000000e+00\n",
      " -1.62605624e+03 -4.88065619e+03 -5.21483736e+03  0.00000000e+00\n",
      "  1.38414299e+04  1.83325772e+04  1.51515160e+04  1.60944917e+04\n",
      " -1.43721930e+03  2.68235614e+03 -1.24513684e+03  2.69479219e+03\n",
      " -2.48679120e-02]\n",
      "Intercept: 52498.996072034526\n"
     ]
    }
   ],
   "source": [
    "# Création de la nouvelle variable R&D Spend Squared\n",
    "df['R&D Spend Squared'] = df['R&D Spend'] ** 2\n",
    "# Les nouvelles varaibles \n",
    "X[:,3] = labelEncoder.fit_transform(X[:,3])\n",
    "\n",
    "ct = ColumnTransformer([(\"auto\", OneHotEncoder(), [-1])], remainder = 'passthrough')\n",
    "X = ct.fit_transform(X)\n",
    "# Division du dataset\n",
    "X_train, X_test, y_train, y_test = train_test_split(X, y, test_size=0.2, random_state=1234)\n",
    "# La nouvelle construction du modèle\n",
    "regressor = LinearRegression().fit(X_train, y_train)\n",
    "print(\"Coefficients:\", regressor.coef_)\n",
    "print(\"Intercept:\", regressor.intercept_)"
   ]
  },
  {
   "cell_type": "markdown",
   "id": "4b39dc59-5013-4009-8f8d-0141b3617759",
   "metadata": {},
   "source": [
    "## 5. Prédiction"
   ]
  },
  {
   "cell_type": "markdown",
   "id": "f5a8859b-ca6b-4581-82db-b2873880894c",
   "metadata": {},
   "source": [
    "Prédire le profit avec les critères suivants :\n",
    "+ RD : 175000;\n",
    "+ Administration : 90000;\n",
    "+ Marketing : 45000;\n",
    "+ State : Ouidah."
   ]
  },
  {
   "cell_type": "code",
   "execution_count": 15,
   "id": "64b50cd0-83e5-4ed7-a01c-703df5f42e08",
   "metadata": {},
   "outputs": [
    {
     "name": "stdout",
     "output_type": "stream",
     "text": [
      "[196392.67506606]\n"
     ]
    }
   ],
   "source": [
    "print(regressor.predict([[0, 1, 0, 175000, 90000, 45000]]))"
   ]
  },
  {
   "cell_type": "markdown",
   "id": "f8512126",
   "metadata": {},
   "source": [
    "Le modèle prédit que, pour les critères donnés, le profit attendu est d'environ 196 392,68. Cela signifie que, selon les données historiques et le modèle entraîné, une entreprise avec ces caractéristiques (dépenses en R&D, administration, marketing, et située à Ouidah) devrait générer un profit proche de cette valeur."
   ]
  },
  {
   "cell_type": "code",
   "execution_count": null,
   "id": "ed609564-d178-4e32-8790-a262bcd9cf1e",
   "metadata": {},
   "outputs": [],
   "source": []
  }
 ],
 "metadata": {
  "kernelspec": {
   "display_name": "base",
   "language": "python",
   "name": "python3"
  },
  "language_info": {
   "codemirror_mode": {
    "name": "ipython",
    "version": 3
   },
   "file_extension": ".py",
   "mimetype": "text/x-python",
   "name": "python",
   "nbconvert_exporter": "python",
   "pygments_lexer": "ipython3",
   "version": "3.12.4"
  }
 },
 "nbformat": 4,
 "nbformat_minor": 5
}
