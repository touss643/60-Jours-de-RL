{
 "cells": [
  {
   "cell_type": "markdown",
   "id": "b0537770-9385-4a46-8d58-3507346551a5",
   "metadata": {},
   "source": [
    "# **Jour 42 : Startups dans le Marketing**"
   ]
  },
  {
   "cell_type": "markdown",
   "id": "5f2a1a4b-5824-4e53-b18f-1a866c970b6e",
   "metadata": {},
   "source": [
    "La base de données utilisée dans ce cas pratique renseigne sur quelques variables de l'activité économique de 50 Startups béninoises. Il s'agit des dépenses en Recherche et développement, Administration, Marketing, la ville de résidence et le profit généré."
   ]
  },
  {
   "cell_type": "markdown",
   "id": "a29138d0-0655-4396-bf9d-24b25633ee60",
   "metadata": {},
   "source": [
    "## 0. Chargement des librairies"
   ]
  },
  {
   "cell_type": "code",
   "execution_count": 1,
   "id": "b9b61903-fedd-45fa-9836-896fd0f11083",
   "metadata": {},
   "outputs": [],
   "source": [
    "import numpy as np\n",
    "import pandas as pd\n",
    "import matplotlib.pyplot as plt\n",
    "\n",
    "from sklearn.preprocessing import LabelEncoder, OneHotEncoder\n",
    "from sklearn.compose import ColumnTransformer\n",
    "\n",
    "from sklearn.linear_model import LinearRegression\n",
    "\n",
    "from sklearn.metrics import r2_score"
   ]
  },
  {
   "cell_type": "markdown",
   "id": "a3e1dfc6-3046-4b02-b57f-f4db957e986b",
   "metadata": {},
   "source": [
    "## 1. Importation de la base de données et vérification des valeurs manquantes"
   ]
  },
  {
   "cell_type": "markdown",
   "id": "170475e6",
   "metadata": {},
   "source": [
    "### 1.1. Importation de la base de données"
   ]
  },
  {
   "cell_type": "code",
   "execution_count": 2,
   "id": "3357efe5-cab0-4104-95ab-b079b05ed15b",
   "metadata": {},
   "outputs": [
    {
     "data": {
      "text/html": [
       "<div>\n",
       "<style scoped>\n",
       "    .dataframe tbody tr th:only-of-type {\n",
       "        vertical-align: middle;\n",
       "    }\n",
       "\n",
       "    .dataframe tbody tr th {\n",
       "        vertical-align: top;\n",
       "    }\n",
       "\n",
       "    .dataframe thead th {\n",
       "        text-align: right;\n",
       "    }\n",
       "</style>\n",
       "<table border=\"1\" class=\"dataframe\">\n",
       "  <thead>\n",
       "    <tr style=\"text-align: right;\">\n",
       "      <th></th>\n",
       "      <th>R&amp;D Spend</th>\n",
       "      <th>Administration</th>\n",
       "      <th>Marketing Spend</th>\n",
       "      <th>State</th>\n",
       "      <th>Profit</th>\n",
       "    </tr>\n",
       "  </thead>\n",
       "  <tbody>\n",
       "    <tr>\n",
       "      <th>0</th>\n",
       "      <td>165349.20</td>\n",
       "      <td>136897.80</td>\n",
       "      <td>471784.10</td>\n",
       "      <td>Cotonou</td>\n",
       "      <td>192261.83</td>\n",
       "    </tr>\n",
       "    <tr>\n",
       "      <th>1</th>\n",
       "      <td>162597.70</td>\n",
       "      <td>151377.59</td>\n",
       "      <td>443898.53</td>\n",
       "      <td>Ouidah</td>\n",
       "      <td>191792.06</td>\n",
       "    </tr>\n",
       "    <tr>\n",
       "      <th>2</th>\n",
       "      <td>153441.51</td>\n",
       "      <td>101145.55</td>\n",
       "      <td>407934.54</td>\n",
       "      <td>Parakou</td>\n",
       "      <td>191050.39</td>\n",
       "    </tr>\n",
       "    <tr>\n",
       "      <th>3</th>\n",
       "      <td>144372.41</td>\n",
       "      <td>118671.85</td>\n",
       "      <td>383199.62</td>\n",
       "      <td>Cotonou</td>\n",
       "      <td>182901.99</td>\n",
       "    </tr>\n",
       "    <tr>\n",
       "      <th>4</th>\n",
       "      <td>142107.34</td>\n",
       "      <td>91391.77</td>\n",
       "      <td>366168.42</td>\n",
       "      <td>Parakou</td>\n",
       "      <td>166187.94</td>\n",
       "    </tr>\n",
       "  </tbody>\n",
       "</table>\n",
       "</div>"
      ],
      "text/plain": [
       "   R&D Spend  Administration  Marketing Spend    State     Profit\n",
       "0  165349.20       136897.80        471784.10  Cotonou  192261.83\n",
       "1  162597.70       151377.59        443898.53   Ouidah  191792.06\n",
       "2  153441.51       101145.55        407934.54  Parakou  191050.39\n",
       "3  144372.41       118671.85        383199.62  Cotonou  182901.99\n",
       "4  142107.34        91391.77        366168.42  Parakou  166187.94"
      ]
     },
     "execution_count": 2,
     "metadata": {},
     "output_type": "execute_result"
    }
   ],
   "source": [
    "import pandas as pd\n",
    "df = pd.read_csv(\"../data/50_Startups_Multiple.csv\")\n",
    "df.head()"
   ]
  },
  {
   "cell_type": "markdown",
   "id": "a1c694ba",
   "metadata": {},
   "source": [
    "### 1.2. Vérification des valeurs manquantes "
   ]
  },
  {
   "cell_type": "code",
   "execution_count": 3,
   "id": "9ab1a0e0",
   "metadata": {},
   "outputs": [
    {
     "name": "stdout",
     "output_type": "stream",
     "text": [
      "R&D Spend          0\n",
      "Administration     0\n",
      "Marketing Spend    0\n",
      "State              0\n",
      "Profit             0\n",
      "dtype: int64\n"
     ]
    }
   ],
   "source": [
    "print(df.isnull().sum())  "
   ]
  },
  {
   "cell_type": "code",
   "execution_count": 4,
   "id": "2e5160cd-5d5e-44f8-bb79-3ccb74aa6603",
   "metadata": {},
   "outputs": [
    {
     "data": {
      "text/html": [
       "<div>\n",
       "<style scoped>\n",
       "    .dataframe tbody tr th:only-of-type {\n",
       "        vertical-align: middle;\n",
       "    }\n",
       "\n",
       "    .dataframe tbody tr th {\n",
       "        vertical-align: top;\n",
       "    }\n",
       "\n",
       "    .dataframe thead th {\n",
       "        text-align: right;\n",
       "    }\n",
       "</style>\n",
       "<table border=\"1\" class=\"dataframe\">\n",
       "  <thead>\n",
       "    <tr style=\"text-align: right;\">\n",
       "      <th></th>\n",
       "      <th>count</th>\n",
       "      <th>mean</th>\n",
       "      <th>std</th>\n",
       "      <th>min</th>\n",
       "      <th>25%</th>\n",
       "      <th>50%</th>\n",
       "      <th>75%</th>\n",
       "      <th>max</th>\n",
       "    </tr>\n",
       "  </thead>\n",
       "  <tbody>\n",
       "    <tr>\n",
       "      <th>R&amp;D Spend</th>\n",
       "      <td>50.0</td>\n",
       "      <td>73721.6156</td>\n",
       "      <td>45902.256482</td>\n",
       "      <td>0.00</td>\n",
       "      <td>39936.3700</td>\n",
       "      <td>73051.080</td>\n",
       "      <td>101602.8000</td>\n",
       "      <td>165349.20</td>\n",
       "    </tr>\n",
       "    <tr>\n",
       "      <th>Administration</th>\n",
       "      <td>50.0</td>\n",
       "      <td>121344.6396</td>\n",
       "      <td>28017.802755</td>\n",
       "      <td>51283.14</td>\n",
       "      <td>103730.8750</td>\n",
       "      <td>122699.795</td>\n",
       "      <td>144842.1800</td>\n",
       "      <td>182645.56</td>\n",
       "    </tr>\n",
       "    <tr>\n",
       "      <th>Marketing Spend</th>\n",
       "      <td>50.0</td>\n",
       "      <td>211025.0978</td>\n",
       "      <td>122290.310726</td>\n",
       "      <td>0.00</td>\n",
       "      <td>129300.1325</td>\n",
       "      <td>212716.240</td>\n",
       "      <td>299469.0850</td>\n",
       "      <td>471784.10</td>\n",
       "    </tr>\n",
       "    <tr>\n",
       "      <th>Profit</th>\n",
       "      <td>50.0</td>\n",
       "      <td>112012.6392</td>\n",
       "      <td>40306.180338</td>\n",
       "      <td>14681.40</td>\n",
       "      <td>90138.9025</td>\n",
       "      <td>107978.190</td>\n",
       "      <td>139765.9775</td>\n",
       "      <td>192261.83</td>\n",
       "    </tr>\n",
       "  </tbody>\n",
       "</table>\n",
       "</div>"
      ],
      "text/plain": [
       "                 count         mean            std       min          25%  \\\n",
       "R&D Spend         50.0   73721.6156   45902.256482      0.00   39936.3700   \n",
       "Administration    50.0  121344.6396   28017.802755  51283.14  103730.8750   \n",
       "Marketing Spend   50.0  211025.0978  122290.310726      0.00  129300.1325   \n",
       "Profit            50.0  112012.6392   40306.180338  14681.40   90138.9025   \n",
       "\n",
       "                        50%          75%        max  \n",
       "R&D Spend         73051.080  101602.8000  165349.20  \n",
       "Administration   122699.795  144842.1800  182645.56  \n",
       "Marketing Spend  212716.240  299469.0850  471784.10  \n",
       "Profit           107978.190  139765.9775  192261.83  "
      ]
     },
     "execution_count": 4,
     "metadata": {},
     "output_type": "execute_result"
    }
   ],
   "source": [
    "df.describe().transpose()"
   ]
  },
  {
   "cell_type": "markdown",
   "id": "827531c6",
   "metadata": {},
   "source": [
    "La base de données ne contient aucune valeur manquante."
   ]
  },
  {
   "cell_type": "markdown",
   "id": "2e699f10-784e-4a19-bef7-38896c129ae5",
   "metadata": {},
   "source": [
    "## 2. Traitement des variables catégorielles"
   ]
  },
  {
   "cell_type": "markdown",
   "id": "fbfed675",
   "metadata": {},
   "source": [
    "### 2.1. Visualisation de la variable State"
   ]
  },
  {
   "cell_type": "code",
   "execution_count": 5,
   "id": "d3fa4578",
   "metadata": {},
   "outputs": [
    {
     "data": {
      "image/png": "[encoded data removed]",
      "text/plain": [
       "<Figure size 800x600 with 1 Axes>"
      ]
     },
     "metadata": {},
     "output_type": "display_data"
    }
   ],
   "source": [
    "# Boxplot de Profit par ville\n",
    "import matplotlib.pyplot as plt\n",
    "import seaborn as sns\n",
    "plt.figure(figsize=(8, 6))\n",
    "sns.boxplot(x=df['State'], y=df['Profit'])\n",
    "plt.title('Profit par ville')\n",
    "plt.xlabel('Ville')\n",
    "plt.ylabel('Profit')\n",
    "plt.show()"
   ]
  },
  {
   "cell_type": "markdown",
   "id": "003f8264",
   "metadata": {},
   "source": [
    "La distribution des profits des entreprises étudiées à Cotonou, présente des valeurs aberrantes."
   ]
  },
  {
   "cell_type": "markdown",
   "id": "92de5d83",
   "metadata": {},
   "source": [
    "### 2.2. Encodage de la variable catégorielle"
   ]
  },
  {
   "cell_type": "code",
   "execution_count": 6,
   "id": "9a2c113a-ca18-45ed-98f4-b97816c139bf",
   "metadata": {},
   "outputs": [],
   "source": [
    "X = df.iloc[:,:-1].values\n",
    "y = df.iloc[:,-1].values\n",
    "\n",
    "from sklearn.preprocessing import LabelEncoder, OneHotEncoder\n",
    "labelEncoder = LabelEncoder()\n",
    "\n",
    "X[:,3] = labelEncoder.fit_transform(X[:,3])\n",
    "\n",
    "ct = ColumnTransformer([(\"auto\", OneHotEncoder(), [-1])], remainder = 'passthrough')\n",
    "X = ct.fit_transform(X)"
   ]
  },
  {
   "cell_type": "markdown",
   "id": "10f71dfe-8f24-47fc-8eb5-424cb2f4f4d5",
   "metadata": {},
   "source": [
    "## 3. Division du dataset"
   ]
  },
  {
   "cell_type": "code",
   "execution_count": 7,
   "id": "3dfa7f9e-fc8d-4517-adf8-473e0d94c923",
   "metadata": {},
   "outputs": [],
   "source": [
    "from sklearn.model_selection import train_test_split\n",
    "X_train, X_test, y_train, y_test = train_test_split(X, y, test_size=0.2, random_state=1234)"
   ]
  },
  {
   "cell_type": "markdown",
   "id": "1baf641c-7183-4eca-b615-f4d8fbc0a4cb",
   "metadata": {},
   "source": [
    "## 4. Construction du modèle"
   ]
  },
  {
   "cell_type": "code",
   "execution_count": 8,
   "id": "920b6182-eef9-4602-ac3f-2a068be84cef",
   "metadata": {},
   "outputs": [
    {
     "name": "stdout",
     "output_type": "stream",
     "text": [
      "Coefficients: [-1.64602649e+03  2.17532903e+03 -5.29302538e+02  8.26989976e-01\n",
      " -5.47084490e-02  2.05751030e-02]\n",
      "Intercept: 53491.98107666568\n"
     ]
    }
   ],
   "source": [
    "from sklearn.linear_model import LinearRegression\n",
    "import statsmodels.api as sm\n",
    "regressor = LinearRegression().fit(X_train, y_train)\n",
    "print(\"Coefficients:\", regressor.coef_)\n",
    "print(\"Intercept:\", regressor.intercept_)"
   ]
  },
  {
   "cell_type": "markdown",
   "id": "38c12556",
   "metadata": {},
   "source": [
    "Les coefficients représentent l'impact de chaque variable indépendante  sur la variable dépendante (ici le profit). \n",
    "L'intercept représente la valeur prédite du profit lorsque toutes les variables indépendantes sont égales à zéro. Dans notre cas, si toutes les dépenses (R&D, Administration, Marketing) sont nulles et que la ville n'est pas spécifiée, le profit prédit serait d'environ 53 491,98. Aussi, bien qu'il semble être contre-intuitif, chaque franc CFA supplémentaire en R&D ferait baisser le profit de 1 646 FCFA, toutes choses égales par ailleurs. Le marketing a un effet négatif sur le profit. Peut-être que certaines dépenses en marketing ne sont pas efficaces. Par contre chaque franc investi dans l'administration augmenterait le profit de 2 175 FCFA."
   ]
  },
  {
   "cell_type": "code",
   "execution_count": 9,
   "id": "7c5fd0de",
   "metadata": {},
   "outputs": [
    {
     "name": "stdout",
     "output_type": "stream",
     "text": [
      "0.9045543891702044\n"
     ]
    }
   ],
   "source": [
    "# Calcul du coefficient de détermination\n",
    "\n",
    "y_pred = regressor.predict(X_test)\n",
    "\n",
    "r2 = r2_score(y_test, y_pred)\n",
    "\n",
    "print(r2)"
   ]
  },
  {
   "cell_type": "markdown",
   "id": "a9ab6cb7",
   "metadata": {},
   "source": [
    "Les dépenses en R&D, administration et marketing, ainsi que la ville de résidence d'une entreprise, permettent d'expliquer à 90% la variabilité du profit généré par l'entreprise."
   ]
  },
  {
   "cell_type": "markdown",
   "id": "4b39dc59-5013-4009-8f8d-0141b3617759",
   "metadata": {},
   "source": [
    "## 5. Prédiction"
   ]
  },
  {
   "cell_type": "markdown",
   "id": "f5a8859b-ca6b-4581-82db-b2873880894c",
   "metadata": {},
   "source": [
    "On se propose de prédire le profit avec les critères suivants :\n",
    "+ RD : 175000;\n",
    "+ Administration : 90000;\n",
    "+ Marketing : 45000;\n",
    "+ State : Ouidah."
   ]
  },
  {
   "cell_type": "code",
   "execution_count": 10,
   "id": "64b50cd0-83e5-4ed7-a01c-703df5f42e08",
   "metadata": {},
   "outputs": [
    {
     "name": "stdout",
     "output_type": "stream",
     "text": [
      "[196392.67506606]\n"
     ]
    }
   ],
   "source": [
    "print(regressor.predict([[0, 1, 0, 175000, 90000, 45000]]))"
   ]
  },
  {
   "cell_type": "markdown",
   "id": "f8512126",
   "metadata": {},
   "source": [
    "Le modèle prédit que, pour les critères donnés, le profit attendu est d'environ 196 392,68. Cela signifie que, selon les données historiques et le modèle entraîné, une entreprise avec ces caractéristiques (dépenses en R&D, administration, marketing, et située à Ouidah) devrait générer un profit proche de la valeur obtenue."
   ]
  }
 ],
 "metadata": {
  "kernelspec": {
   "display_name": "Python 3 (ipykernel)",
   "language": "python",
   "name": "python3"
  },
  "language_info": {
   "codemirror_mode": {
    "name": "ipython",
    "version": 3
   },
   "file_extension": ".py",
   "mimetype": "text/x-python",
   "name": "python",
   "nbconvert_exporter": "python",
   "pygments_lexer": "ipython3",
   "version": "3.12.4"
  }
 },
 "nbformat": 4,
 "nbformat_minor": 5
}
