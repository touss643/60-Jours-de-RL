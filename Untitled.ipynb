{
 "cells": [
  {
   "cell_type": "code",
   "execution_count": 1,
   "id": "6a5a4eff-43b8-4471-99e3-faed4f91d344",
   "metadata": {},
   "outputs": [],
   "source": [
    "def anagramme(list1, list2):\n",
    "    liste1 = list(list1)\n",
    "    liste2 = list(list2)\n",
    "    if len(list1) == len(list2):\n",
    "        if liste1[0] != liste2[0] :\n",
    "            print(\"Les deux mots ne sont pas des anagrammes\")\n",
    "        else:\n",
    "            if sorted(liste1)==sorted(liste2):\n",
    "                print(\"Les deux mots sont des anagrammes\")"
   ]
  },
  {
   "cell_type": "code",
   "execution_count": 4,
   "id": "fa5fc58e-b7bf-4065-a304-eb2903391e31",
   "metadata": {},
   "outputs": [],
   "source": [
    "anagramme(\"bien\", \"béni\")"
   ]
  },
  {
   "cell_type": "code",
   "execution_count": null,
   "id": "622fe604-a5c9-4d6c-9a89-d374af119613",
   "metadata": {},
   "outputs": [],
   "source": []
  }
 ],
 "metadata": {
  "kernelspec": {
   "display_name": "Python 3 (ipykernel)",
   "language": "python",
   "name": "python3"
  },
  "language_info": {
   "codemirror_mode": {
    "name": "ipython",
    "version": 3
   },
   "file_extension": ".py",
   "mimetype": "text/x-python",
   "name": "python",
   "nbconvert_exporter": "python",
   "pygments_lexer": "ipython3",
   "version": "3.12.4"
  }
 },
 "nbformat": 4,
 "nbformat_minor": 5
}
