{
  "cells": [
    {
      "cell_type": "markdown",
      "metadata": {
        "id": "view-in-github",
        "colab_type": "text"
      },
      "source": [
        "<a href=\"https://colab.research.google.com/github/touss643/60-Jours-de-RL/blob/main/notebooks/Module_3.ipynb\" target=\"_parent\"><img src=\"https://colab.research.google.com/assets/colab-badge.svg\" alt=\"Open In Colab\"/></a>"
      ]
    },
    {
      "cell_type": "markdown",
      "metadata": {
        "id": "47cmRNaXAuiN"
      },
      "source": [
        "# Module 3 : Contrôle de flux et boucles"
      ]
    },
    {
      "cell_type": "markdown",
      "metadata": {
        "id": "n4Q1gsQxAuiQ"
      },
      "source": [
        "## 🎯 Objectifs pédagogiques"
      ]
    },
    {
      "cell_type": "markdown",
      "metadata": {
        "id": "Cd3Xci8XAuiR"
      },
      "source": [
        "+ Comprendre et utiliser les instructions conditionnelles (`if`, `elif`, `else`)\n",
        "\n",
        "+ Maîtriser les boucles `for` et `while`\n",
        "\n",
        "+ Utiliser les instructions `break`, `continue`, `pass`\n",
        "\n",
        "+ Créer des boucles imbriquées\n",
        "\n",
        "+ Appliquer les compréhensions de listes (en bonus)"
      ]
    },
    {
      "cell_type": "markdown",
      "metadata": {
        "id": "3rCBsOwhAuiR"
      },
      "source": [
        "## 1. 🔍 Les structures conditionnelles"
      ]
    },
    {
      "cell_type": "code",
      "execution_count": null,
      "metadata": {
        "id": "n1SzP6rFAuiS"
      },
      "outputs": [],
      "source": [
        "age = 20\n",
        "\n",
        "if age >= 18:\n",
        "    print(\"Vous êtes majeur.\")\n",
        "elif age >= 13:\n",
        "    print(\"Vous êtes adolescent.\")\n",
        "else:\n",
        "    print(\"Vous êtes enfant.\")"
      ]
    },
    {
      "cell_type": "markdown",
      "metadata": {
        "id": "NgvFUx2AAuiT"
      },
      "source": [
        "➡️ **Exercice** : Écrire un programme qui vérifie si un nombre est pair ou impair."
      ]
    },
    {
      "cell_type": "markdown",
      "metadata": {
        "id": "9wsIt6l3AuiT"
      },
      "source": [
        "## 2. 🔁 La boucle `for`"
      ]
    },
    {
      "cell_type": "code",
      "execution_count": null,
      "metadata": {
        "id": "rnKY9Yy6AuiT",
        "outputId": "3e66981b-fbec-4bb1-d552-aba07af37c0c"
      },
      "outputs": [
        {
          "name": "stdout",
          "output_type": "stream",
          "text": [
            "pomme\n",
            "banane\n",
            "cerise\n"
          ]
        }
      ],
      "source": [
        "fruits = [\"pomme\", \"banane\", \"cerise\"]\n",
        "\n",
        "for fruit in fruits:\n",
        "    print(fruit)"
      ]
    },
    {
      "cell_type": "markdown",
      "metadata": {
        "id": "OSvr50m7AuiU"
      },
      "source": [
        "➡️ **Exercice** : Afficher les carrés des nombres de 1 à 10."
      ]
    },
    {
      "cell_type": "markdown",
      "metadata": {
        "id": "50n9WaUMAuiU"
      },
      "source": [
        "## 3. 🔄 La boucle `while`"
      ]
    },
    {
      "cell_type": "code",
      "execution_count": null,
      "metadata": {
        "id": "K3l4yF-pAuiV",
        "outputId": "f4cfa081-1b55-4187-8914-373c85919058"
      },
      "outputs": [
        {
          "name": "stdout",
          "output_type": "stream",
          "text": [
            "Compteur = 0\n",
            "Compteur = 1\n",
            "Compteur = 2\n",
            "Compteur = 3\n",
            "Compteur = 4\n"
          ]
        }
      ],
      "source": [
        "compteur = 0\n",
        "\n",
        "while compteur < 5:\n",
        "    print(f\"Compteur = {compteur}\")\n",
        "    compteur += 1"
      ]
    },
    {
      "cell_type": "markdown",
      "metadata": {
        "id": "YNfzKc0JAuiV"
      },
      "source": [
        "➡️ **Exercice** : Écrire un programme qui demande à l'utilisateur un mot de passe jusqu'à ce qu'il entre le bon."
      ]
    },
    {
      "cell_type": "markdown",
      "metadata": {
        "id": "hfYxC5Q-AuiV"
      },
      "source": [
        "## 4. ⛔️ `break`, `continue` et `pass`"
      ]
    },
    {
      "cell_type": "code",
      "execution_count": null,
      "metadata": {
        "id": "btf69JfmAuiV",
        "outputId": "99024373-64e1-49a9-a64c-0d4ecd6d6d2c"
      },
      "outputs": [
        {
          "name": "stdout",
          "output_type": "stream",
          "text": [
            "0\n",
            "1\n",
            "2\n",
            "3\n",
            "4\n",
            "1\n",
            "3\n",
            "5\n",
            "7\n",
            "9\n"
          ]
        }
      ],
      "source": [
        "for i in range(10):\n",
        "    if i == 5:\n",
        "        break  # arrête la boucle\n",
        "    print(i)\n",
        "\n",
        "for i in range(10):\n",
        "    if i % 2 == 0:\n",
        "        continue  # saute l'itération\n",
        "    print(i)"
      ]
    },
    {
      "cell_type": "markdown",
      "metadata": {
        "id": "38eZgmEjAuiW"
      },
      "source": [
        "➡️ **Mini-défi** : Trouver le premier nombre divisible par 7 dans une liste et arrêter la boucle."
      ]
    },
    {
      "cell_type": "markdown",
      "metadata": {
        "id": "QsMM_ps1AuiW"
      },
      "source": [
        "## 5. 🧱 Boucles imbriquées"
      ]
    },
    {
      "cell_type": "code",
      "execution_count": null,
      "metadata": {
        "id": "6kJQIKUiAuiW",
        "outputId": "c74fcfcb-15c7-435f-ed74-2e177ec738f1"
      },
      "outputs": [
        {
          "name": "stdout",
          "output_type": "stream",
          "text": [
            "1 x 1 = 1\n",
            "1 x 2 = 2\n",
            "1 x 3 = 3\n",
            "2 x 1 = 2\n",
            "2 x 2 = 4\n",
            "2 x 3 = 6\n",
            "3 x 1 = 3\n",
            "3 x 2 = 6\n",
            "3 x 3 = 9\n"
          ]
        }
      ],
      "source": [
        "for i in range(1, 4):\n",
        "    for j in range(1, 4):\n",
        "        print(f\"{i} x {j} = {i*j}\")"
      ]
    },
    {
      "cell_type": "markdown",
      "metadata": {
        "id": "S8hTIwzNAuiW"
      },
      "source": [
        "## 6. ✨ Compréhensions de listes (bonus)"
      ]
    },
    {
      "cell_type": "code",
      "execution_count": null,
      "metadata": {
        "id": "u5RURcslAuiX",
        "outputId": "102a7652-5d1d-4341-acfb-cd9ad6bdecb0"
      },
      "outputs": [
        {
          "name": "stdout",
          "output_type": "stream",
          "text": [
            "[0, 1, 4, 9, 16, 25, 36, 49, 64, 81]\n"
          ]
        }
      ],
      "source": [
        "carres = [x**2 for x in range(10)]\n",
        "print(carres)"
      ]
    },
    {
      "cell_type": "markdown",
      "metadata": {
        "id": "LsX1B4p3AuiX"
      },
      "source": [
        "➡️ **Exercice** : Créer une liste des longueurs des mots dans une phrase."
      ]
    },
    {
      "cell_type": "markdown",
      "metadata": {
        "id": "q_vuQk7HAuiX"
      },
      "source": [
        "## 🧩 `zip()` – Parcourir plusieurs listes en parallèle"
      ]
    },
    {
      "cell_type": "markdown",
      "metadata": {
        "id": "7wlkIy8CAuiX"
      },
      "source": [
        "`zip()` prend deux (ou plus) listes (ou itérables) et les \"zippe\" ensemble élément par élément, créant des paires (ou tuples) d’éléments correspondants."
      ]
    },
    {
      "cell_type": "code",
      "execution_count": null,
      "metadata": {
        "id": "WCDvN-ijAuiX",
        "outputId": "2dd522e7-bcc2-48a4-c679-e86c3297e67f"
      },
      "outputs": [
        {
          "name": "stdout",
          "output_type": "stream",
          "text": [
            "Alice a 25 ans.\n",
            "Bob a 30 ans.\n",
            "Charlie a 22 ans.\n"
          ]
        }
      ],
      "source": [
        "prenoms = [\"Alice\", \"Bob\", \"Charlie\"]\n",
        "ages = [25, 30, 22]\n",
        "\n",
        "for nom, age in zip(prenoms, ages):\n",
        "    print(f\"{nom} a {age} ans.\")"
      ]
    },
    {
      "cell_type": "markdown",
      "metadata": {
        "id": "H0ETgM0mAuiY"
      },
      "source": [
        "🎯 **À savoir** : Si les listes ont des longueurs différentes, zip s’arrête à la fin de la plus courte :"
      ]
    },
    {
      "cell_type": "code",
      "execution_count": null,
      "metadata": {
        "id": "Bfa5R3QzAuiY",
        "outputId": "4e5e2fe3-a35b-42a6-ece9-c2e8690598b1"
      },
      "outputs": [
        {
          "name": "stdout",
          "output_type": "stream",
          "text": [
            "[(1, 'a'), (2, 'b')]\n"
          ]
        }
      ],
      "source": [
        "print(list(zip([1, 2, 3], [\"a\", \"b\"])))  # [(1, 'a'), (2, 'b')]"
      ]
    },
    {
      "cell_type": "markdown",
      "metadata": {
        "id": "6zrRmuANAuiY"
      },
      "source": [
        "## 📦 Bonus : `zip` + `enumerate`"
      ]
    },
    {
      "cell_type": "code",
      "execution_count": null,
      "metadata": {
        "id": "_QEiTJbzAuiY",
        "outputId": "9b043ee4-0bdd-49fb-badb-ca410be395c6"
      },
      "outputs": [
        {
          "name": "stdout",
          "output_type": "stream",
          "text": [
            "1. Alice - 25 ans\n",
            "2. Bob - 30 ans\n",
            "3. Charlie - 22 ans\n"
          ]
        }
      ],
      "source": [
        "for i, (nom, age) in enumerate(zip(prenoms, ages), start=1):\n",
        "    print(f\"{i}. {nom} - {age} ans\")"
      ]
    },
    {
      "cell_type": "markdown",
      "metadata": {
        "id": "ZpeixHI1AuiZ"
      },
      "source": [
        "## 🧪 Exercice 1 :"
      ]
    },
    {
      "cell_type": "markdown",
      "metadata": {
        "id": "DF6MWILqAuiZ"
      },
      "source": [
        "On considère les deux listes :\n",
        "\n",
        "`produits = [\"Pain\", \"Lait\", \"Beurre\"]`\n",
        "\n",
        "`prix = [1.2, 0.8, 2.5]`\n",
        "\n",
        "Afficher chaque produit avec son prix au format : \"Pain coûte 1.2 euros\"."
      ]
    },
    {
      "cell_type": "markdown",
      "metadata": {
        "id": "HEClMRTBAuiZ"
      },
      "source": [
        "## 🧪 Exercice 2 :"
      ]
    },
    {
      "cell_type": "markdown",
      "metadata": {
        "id": "2BsidUg9AuiZ"
      },
      "source": [
        "### 🛡️ Exercice – Simulation d’un tarif d’assurance automobile\n",
        "\n",
        "Une compagnie d’assurance automobile propose 4 familles de tarifs du moins cher au plus onéreux : **A, B, C et D**. Le tarif dépend de la situation du conducteur.\n",
        "\n",
        "#### Règles :\n",
        "\n",
        "1. Si le conducteur a **moins de 25 ans** et a le **permis depuis moins de 2 ans** :\n",
        "   - 0 accident → **Tarif D**\n",
        "   - ≥1 accident → **Refusé**\n",
        "\n",
        "2. Si le conducteur a **moins de 25 ans avec permis ≥ 2 ans** OU **25 ans ou plus avec permis < 2 ans** :\n",
        "   - 0 accident → **Tarif C**\n",
        "   - 1 accident → **Tarif D**\n",
        "   - ≥2 accidents → **Refusé**\n",
        "\n",
        "3. Si le conducteur a **25 ans ou plus ET permis ≥ 2 ans** :\n",
        "   - 0 accident → **Tarif B**\n",
        "   - 1 accident → **Tarif C**\n",
        "   - 2 accidents → **Tarif D**\n",
        "   - ≥3 accidents → **Refusé**\n",
        "\n",
        "✅ **Bonus fidélité** : si le client est **assuré depuis plus d’un an**, il obtient **un tarif supérieur (meilleur)** : de D vers C, de C vers B, ou de B vers A.\n",
        "\n",
        "---\n",
        "\n",
        "Remplir la fonction `proposer_tarif()` pour renvoyer le tarif à appliquer selon les entrées.\n"
      ]
    },
    {
      "cell_type": "markdown",
      "metadata": {
        "id": "Gk4Lw2NzAuiZ"
      },
      "source": [
        "### Correction"
      ]
    },
    {
      "cell_type": "code",
      "execution_count": null,
      "metadata": {
        "id": "OQGpDHZuAuiZ"
      },
      "outputs": [],
      "source": [
        "def proposer_tarif(age, anciennete_permis, accidents, ancien_client):\n",
        "    # Étape 1 : déterminer le tarif de base\n",
        "    tarif = None\n",
        "\n",
        "    if age < 25 and anciennete_permis < 2:\n",
        "        if accidents == 0:\n",
        "            tarif = 'D'\n",
        "        else:\n",
        "            return \"Refusé\"\n",
        "\n",
        "    elif (age < 25 and anciennete_permis >= 2) or (age >= 25 and anciennete_permis < 2):\n",
        "        if accidents == 0:\n",
        "            tarif = 'C'\n",
        "        elif accidents == 1:\n",
        "            tarif = 'D'\n",
        "        else:\n",
        "            return \"Refusé\"\n",
        "\n",
        "    elif age >= 25 and anciennete_permis >= 2:\n",
        "        if accidents == 0:\n",
        "            tarif = 'B'\n",
        "        elif accidents == 1:\n",
        "            tarif = 'C'\n",
        "        elif accidents == 2:\n",
        "            tarif = 'D'\n",
        "        else:\n",
        "            return \"Refusé\"\n",
        "\n",
        "    # Étape 2 : appliquer le bonus fidélité\n",
        "    if ancien_client:\n",
        "        if tarif == 'D':\n",
        "            tarif = 'C'\n",
        "        elif tarif == 'C':\n",
        "            tarif = 'B'\n",
        "        elif tarif == 'B':\n",
        "            tarif = 'A'\n",
        "\n",
        "    return tarif"
      ]
    },
    {
      "cell_type": "code",
      "execution_count": null,
      "metadata": {
        "id": "ZVt2j2ORAuia",
        "outputId": "49aefa99-1410-48ab-fc0e-8f0bcd684f53"
      },
      "outputs": [
        {
          "name": "stdout",
          "output_type": "stream",
          "text": [
            "C\n",
            "D\n",
            "Refusé\n",
            "A\n"
          ]
        }
      ],
      "source": [
        "print(proposer_tarif(24, 1, 0, True))   # --> C (D avec bonus)\n",
        "print(proposer_tarif(30, 3, 2, False))  # --> D\n",
        "print(proposer_tarif(22, 1, 1, False))  # --> Refusé\n",
        "print(proposer_tarif(26, 3, 0, True))   # --> A (B avec bonus)"
      ]
    }
  ],
  "metadata": {
    "kernelspec": {
      "display_name": "Python 3 (ipykernel)",
      "language": "python",
      "name": "python3"
    },
    "language_info": {
      "codemirror_mode": {
        "name": "ipython",
        "version": 3
      },
      "file_extension": ".py",
      "mimetype": "text/x-python",
      "name": "python",
      "nbconvert_exporter": "python",
      "pygments_lexer": "ipython3",
      "version": "3.12.4"
    },
    "colab": {
      "provenance": [],
      "include_colab_link": true
    }
  },
  "nbformat": 4,
  "nbformat_minor": 0
}